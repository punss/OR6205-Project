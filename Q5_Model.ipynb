{
 "cells": [
  {
   "cell_type": "code",
   "execution_count": 196,
   "metadata": {},
   "outputs": [],
   "source": [
    "import gurobipy as gp\n",
    "from gurobipy import GRB\n",
    "import pandas as pd\n",
    "import numpy as np"
   ]
  },
  {
   "cell_type": "markdown",
   "metadata": {},
   "source": [
    "### Defining Setup Time and Hourly Yield Constants"
   ]
  },
  {
   "cell_type": "code",
   "execution_count": 197,
   "metadata": {},
   "outputs": [],
   "source": [
    "T = pd.read_csv('setup_constants_q5.csv')\n",
    "R = pd.read_csv('yield_constants.csv')"
   ]
  },
  {
   "cell_type": "code",
   "execution_count": 198,
   "metadata": {},
   "outputs": [],
   "source": [
    "T.index += 1\n",
    "R.index += 1"
   ]
  },
  {
   "cell_type": "markdown",
   "metadata": {},
   "source": [
    "### Defining Weekly Demand Constants"
   ]
  },
  {
   "cell_type": "code",
   "execution_count": 199,
   "metadata": {},
   "outputs": [],
   "source": [
    "D = pd.read_csv('weekly_demands.csv')"
   ]
  },
  {
   "cell_type": "code",
   "execution_count": 200,
   "metadata": {},
   "outputs": [],
   "source": [
    "D.index += 1"
   ]
  },
  {
   "cell_type": "markdown",
   "metadata": {},
   "source": [
    "# Defining Problem"
   ]
  },
  {
   "cell_type": "code",
   "execution_count": 201,
   "metadata": {},
   "outputs": [],
   "source": [
    "model = gp.Model('base_problem')"
   ]
  },
  {
   "cell_type": "markdown",
   "metadata": {},
   "source": [
    "## Variables"
   ]
  },
  {
   "cell_type": "markdown",
   "metadata": {},
   "source": [
    "### Adding Binary Setup Variables"
   ]
  },
  {
   "cell_type": "code",
   "execution_count": 202,
   "metadata": {},
   "outputs": [],
   "source": [
    "setup_complete_tuples = [(0,0),(1,1),(2,3),(3,4),(4,2)]"
   ]
  },
  {
   "cell_type": "code",
   "execution_count": 203,
   "metadata": {},
   "outputs": [],
   "source": [
    "# (1,2) in setup_complete_tuples"
   ]
  },
  {
   "cell_type": "code",
   "execution_count": 204,
   "metadata": {},
   "outputs": [],
   "source": [
    "S = []\n",
    "for i in range(5):\n",
    "    S_i = []\n",
    "    for j in range(5):\n",
    "        S_i.append(model.addVar(vtype=GRB.BINARY, name=f\"S_{i}_{j}\", lb=0))\n",
    "        if (i,j) in setup_complete_tuples:\n",
    "            S_i[j].Start = 1\n",
    "    S.append(S_i)"
   ]
  },
  {
   "cell_type": "markdown",
   "metadata": {},
   "source": [
    "### Adding Binary Overtime Setup Variables"
   ]
  },
  {
   "cell_type": "code",
   "execution_count": 205,
   "metadata": {},
   "outputs": [],
   "source": [
    "Sp = []\n",
    "for i in range(5):\n",
    "    Sp_i = []\n",
    "    for j in range(5):\n",
    "        Sp_i.append(model.addVar(vtype=GRB.BINARY, name=f\"Sp_{i}_{j}\", lb=0))\n",
    "    Sp.append(Sp_i)"
   ]
  },
  {
   "cell_type": "markdown",
   "metadata": {},
   "source": [
    "### Adding Production Variables"
   ]
  },
  {
   "cell_type": "code",
   "execution_count": 206,
   "metadata": {},
   "outputs": [],
   "source": [
    "P = []\n",
    "for i in range(5):\n",
    "    P_i = []\n",
    "    for j in range(5):\n",
    "        P_i.append(model.addVar(vtype=GRB.CONTINUOUS, name=f\"P_{i}_{j}\", lb=0))\n",
    "    P.append(P_i)"
   ]
  },
  {
   "cell_type": "markdown",
   "metadata": {},
   "source": [
    "### Adding Overtime Production Variables"
   ]
  },
  {
   "cell_type": "code",
   "execution_count": 207,
   "metadata": {},
   "outputs": [],
   "source": [
    "Pp = []\n",
    "for i in range(5):\n",
    "    Pp_i = []\n",
    "    for j in range(5):\n",
    "        Pp_i.append(model.addVar(vtype=GRB.CONTINUOUS, name=f\"Pp_{i}_{j}\", lb=0))\n",
    "    Pp.append(Pp_i)"
   ]
  },
  {
   "cell_type": "markdown",
   "metadata": {},
   "source": [
    "### Adding Use Variables"
   ]
  },
  {
   "cell_type": "code",
   "execution_count": 208,
   "metadata": {},
   "outputs": [],
   "source": [
    "U = []\n",
    "for i in range(5):\n",
    "    U_i = []\n",
    "    for j in range(5):\n",
    "        U_i.append(model.addVar(vtype=GRB.BINARY, name=f\"U_{i}_{j}\", lb=0))\n",
    "    U.append(U_i)"
   ]
  },
  {
   "cell_type": "markdown",
   "metadata": {},
   "source": [
    "### Adding Overtime Use Variables"
   ]
  },
  {
   "cell_type": "code",
   "execution_count": 209,
   "metadata": {},
   "outputs": [],
   "source": [
    "Up = []\n",
    "for i in range(5):\n",
    "    Up_i = []\n",
    "    for j in range(5):\n",
    "        Up_i.append(model.addVar(vtype=GRB.BINARY, name=f\"Up_{i}_{j}\", lb=0))\n",
    "    Up.append(U_i)"
   ]
  },
  {
   "cell_type": "markdown",
   "metadata": {},
   "source": [
    "## Constraints"
   ]
  },
  {
   "cell_type": "markdown",
   "metadata": {},
   "source": [
    "### Demand Constraints"
   ]
  },
  {
   "cell_type": "code",
   "execution_count": 210,
   "metadata": {},
   "outputs": [
    {
     "name": "stderr",
     "output_type": "stream",
     "text": [
      "/var/folders/w_/z02fg3l56_jfc9tys40hqtdm0000gn/T/ipykernel_15742/2297407209.py:3: FutureWarning: Series.__getitem__ treating keys as positions is deprecated. In a future version, integer keys will always be treated as labels (consistent with DataFrame behavior). To access a value by position, use `ser.iloc[pos]`\n",
      "  model.addConstr(constr_expr >= D.iloc[0][i], name=f'Demand_Prod_{i+1}')\n"
     ]
    }
   ],
   "source": [
    "for i in range(5):\n",
    "    constr_expr = gp.quicksum(P[j][i]*R.iloc[j,i] + Pp[j][i]*R.iloc[j,i] for j in range(5))\n",
    "    model.addConstr(constr_expr >= D.iloc[0][i], name=f'Demand_Prod_{i+1}')"
   ]
  },
  {
   "cell_type": "markdown",
   "metadata": {},
   "source": [
    "### Normal Production Time Constraints"
   ]
  },
  {
   "cell_type": "code",
   "execution_count": 211,
   "metadata": {},
   "outputs": [],
   "source": [
    "for i in range(5):\n",
    "    constr_expr = gp.quicksum(S[i][j]*T.iloc[i,j] + P[i][j] for j in range(5))\n",
    "    model.addConstr(constr_expr <= 120, name=f'Prod_Hrs_Mach_{i+1}')"
   ]
  },
  {
   "cell_type": "markdown",
   "metadata": {},
   "source": [
    "### Overtime Production Time Constraints"
   ]
  },
  {
   "cell_type": "code",
   "execution_count": 212,
   "metadata": {},
   "outputs": [],
   "source": [
    "for i in range(5):\n",
    "    constr_expr = gp.quicksum(Sp[i][j]*T.iloc[i,j] + Pp[i][j] for j in range(5))\n",
    "    model.addConstr(constr_expr <= 48, name=f'OT_Prod_Hrs_Mach_{i+1}')"
   ]
  },
  {
   "cell_type": "markdown",
   "metadata": {},
   "source": [
    "### Production Use Linkage Constants\n",
    "- Regular Time and Overtime are both included here"
   ]
  },
  {
   "cell_type": "code",
   "execution_count": 213,
   "metadata": {},
   "outputs": [],
   "source": [
    "for i in range(5):\n",
    "    for j in range(5):\n",
    "        model.addConstr(P[i][j]*R.iloc[i,j] <= 10000*U[i][j], name=f'UseProdLinkage_Mach_{i+1}_Prod_{j+1}')\n",
    "        model.addConstr(Pp[i][j]*R.iloc[i,j] <= 10000*(U[i][j]+Up[i][j]), name=f'OTUseProdLinkage_Mach_{i+1}_Prod_{j+1}')"
   ]
  },
  {
   "cell_type": "markdown",
   "metadata": {},
   "source": [
    "### Setup Use Linkage Constants\n",
    "- Regular Time and Overtime are both included here"
   ]
  },
  {
   "cell_type": "code",
   "execution_count": 214,
   "metadata": {},
   "outputs": [],
   "source": [
    "for i in range(5):\n",
    "    for j in range(5):\n",
    "        model.addConstr(U[i][j] <= 10*S[i][j], name=f'SetupUseLinkage_Mach_{i+1}_Prod_{j+1}')\n",
    "        model.addConstr(Up[i][j] <= 10*(S[i][j]+Sp[i][j]), name=f'SetupUseLinkage_Mach_{i+1}_Prod_{j+1}')"
   ]
  },
  {
   "cell_type": "markdown",
   "metadata": {},
   "source": [
    "## Objective Function"
   ]
  },
  {
   "cell_type": "code",
   "execution_count": 215,
   "metadata": {},
   "outputs": [],
   "source": [
    "obj_parts = []\n",
    "for i in range(5):\n",
    "    obj_parts.append(gp.quicksum(Sp[i][j]*T.iloc[i,j] + Pp[i][j] for j in range(5)))"
   ]
  },
  {
   "cell_type": "code",
   "execution_count": 216,
   "metadata": {},
   "outputs": [],
   "source": [
    "model.setObjective(gp.quicksum(obj_parts),GRB.MINIMIZE)"
   ]
  },
  {
   "cell_type": "code",
   "execution_count": 217,
   "metadata": {},
   "outputs": [],
   "source": [
    "model.update()"
   ]
  },
  {
   "cell_type": "code",
   "execution_count": 218,
   "metadata": {},
   "outputs": [
    {
     "data": {
      "text/plain": [
       "<gurobi.LinExpr: 8.0 Sp_0_3 + 10.0 Sp_1_0 + 10.0 Sp_2_1 + 8.0 Sp_3_1 + 20.0 Sp_4_4 + Pp_0_0 + Pp_0_1 + Pp_0_2 + Pp_0_3 + Pp_0_4 + Pp_1_0 + Pp_1_1 + Pp_1_2 + Pp_1_3 + Pp_1_4 + Pp_2_0 + Pp_2_1 + Pp_2_2 + Pp_2_3 + Pp_2_4 + Pp_3_0 + Pp_3_1 + Pp_3_2 + Pp_3_3 + Pp_3_4 + Pp_4_0 + Pp_4_1 + Pp_4_2 + Pp_4_3 + Pp_4_4>"
      ]
     },
     "execution_count": 218,
     "metadata": {},
     "output_type": "execute_result"
    }
   ],
   "source": [
    "model.getObjective()"
   ]
  },
  {
   "cell_type": "code",
   "execution_count": 219,
   "metadata": {},
   "outputs": [
    {
     "name": "stdout",
     "output_type": "stream",
     "text": [
      "Gurobi Optimizer version 12.0.0 build v12.0.0rc1 (mac64[arm] - Darwin 24.0.0 24A348)\n",
      "\n",
      "CPU model: Apple M3 Pro\n",
      "Thread count: 11 physical cores, 11 logical processors, using up to 11 threads\n",
      "\n",
      "Optimize a model with 115 rows, 150 columns and 295 nonzeros\n",
      "Model fingerprint: 0x74992c0b\n",
      "Variable types: 50 continuous, 100 integer (100 binary)\n",
      "Coefficient statistics:\n",
      "  Matrix range     [1e+00, 2e+04]\n",
      "  Objective range  [1e+00, 2e+01]\n",
      "  Bounds range     [1e+00, 1e+00]\n",
      "  RHS range        [5e+01, 4e+03]\n",
      "\n",
      "User MIP start produced solution with objective 91.0767 (0.00s)\n",
      "Loaded user MIP start with objective 91.0767\n",
      "\n",
      "Presolve removed 101 rows and 132 columns\n",
      "Presolve time: 0.00s\n",
      "Presolved: 14 rows, 18 columns, 44 nonzeros\n",
      "Variable types: 13 continuous, 5 integer (5 binary)\n",
      "\n",
      "Root relaxation: objective 8.984605e+01, 10 iterations, 0.00 seconds (0.00 work units)\n",
      "\n",
      "    Nodes    |    Current Node    |     Objective Bounds      |     Work\n",
      " Expl Unexpl |  Obj  Depth IntInf | Incumbent    BestBd   Gap | It/Node Time\n",
      "\n",
      "     0     0   89.84605    0    2   91.07673   89.84605  1.35%     -    0s\n",
      "     0     0     cutoff    0        91.07673   91.07673  0.00%     -    0s\n",
      "\n",
      "Explored 1 nodes (12 simplex iterations) in 0.01 seconds (0.00 work units)\n",
      "Thread count was 11 (of 11 available processors)\n",
      "\n",
      "Solution count 1: 91.0767 \n",
      "\n",
      "Optimal solution found (tolerance 1.00e-04)\n",
      "Best objective 9.107672882673e+01, best bound 9.107672882673e+01, gap 0.0000%\n"
     ]
    }
   ],
   "source": [
    "model.optimize()"
   ]
  },
  {
   "cell_type": "code",
   "execution_count": 220,
   "metadata": {},
   "outputs": [
    {
     "data": {
      "text/plain": [
       "True"
      ]
     },
     "execution_count": 220,
     "metadata": {},
     "output_type": "execute_result"
    }
   ],
   "source": [
    "model.Status == GRB.OPTIMAL"
   ]
  },
  {
   "cell_type": "code",
   "execution_count": 221,
   "metadata": {},
   "outputs": [
    {
     "name": "stdout",
     "output_type": "stream",
     "text": [
      "Machine 1: 0 0 0 8 0 \n",
      "Machine 2: 10 0 0 0 0 \n",
      "Machine 3: 0 10 0 0 0 \n",
      "Machine 4: 0 8 0 0 0 \n",
      "Machine 5: 0 0 0 0 20 \n"
     ]
    }
   ],
   "source": [
    "for i in range(5):\n",
    "    print(f'Machine {i+1}: ', end='')\n",
    "    for j in range(5):\n",
    "        print(int(abs(S[i][j].X*T.iloc[i,j])), end=\" \")\n",
    "    print(\"\")"
   ]
  },
  {
   "cell_type": "code",
   "execution_count": 222,
   "metadata": {},
   "outputs": [
    {
     "name": "stdout",
     "output_type": "stream",
     "text": [
      "Machine 1: 0 0 0 0 0 \n",
      "Machine 2: 0 0 0 0 0 \n",
      "Machine 3: 0 0 0 0 0 \n",
      "Machine 4: 0 0 0 0 0 \n",
      "Machine 5: 0 0 0 0 0 \n"
     ]
    }
   ],
   "source": [
    "for i in range(5):\n",
    "    print(f'Machine {i+1}: ', end='')\n",
    "    for j in range(5):\n",
    "        print(int(abs(Sp[i][j].X*T.iloc[i,j])), end=\" \")\n",
    "    print(\"\")"
   ]
  },
  {
   "cell_type": "code",
   "execution_count": 223,
   "metadata": {},
   "outputs": [
    {
     "name": "stdout",
     "output_type": "stream",
     "text": [
      "Machine 1: 49.583333333333336 0.0 0.0 62.416666666666664 0.0 \n",
      "Machine 2: 110.0 0.0 0.0 0.0 0.0 \n",
      "Machine 3: 0.0 110.0 0.0 0.0 0.0 \n",
      "Machine 4: 0.0 53.333333333333336 58.666666666666664 0.0 0.0 \n",
      "Machine 5: 0.0 0.0 0.0 40.1474358974359 59.8525641025641 \n"
     ]
    }
   ],
   "source": [
    "for i in range(5):\n",
    "    print(f'Machine {i+1}: ', end='')\n",
    "    for j in range(5):\n",
    "        print((abs(P[i][j].X)), end=\" \")\n",
    "    print(\"\")"
   ]
  },
  {
   "cell_type": "code",
   "execution_count": 224,
   "metadata": {},
   "outputs": [
    {
     "name": "stdout",
     "output_type": "stream",
     "text": [
      "Machine 1: 0.0 0.0 0.0 0.0 0.0 \n",
      "Machine 2: 0.0 0.0 0.0 0.0 0.0 \n",
      "Machine 3: 0.0 9.595959595959606 0.0 0.0 0.0 \n",
      "Machine 4: 0.0 0.0 48.0 0.0 0.0 \n",
      "Machine 5: 0.0 0.0 0.0 0.0 33.48076923076923 \n"
     ]
    }
   ],
   "source": [
    "for i in range(5):\n",
    "    print(f'Machine {i+1}: ', end='')\n",
    "    for j in range(5):\n",
    "        print((abs(Pp[i][j].X)), end=\" \")\n",
    "    print(\"\")"
   ]
  },
  {
   "cell_type": "code",
   "execution_count": 225,
   "metadata": {},
   "outputs": [
    {
     "name": "stdout",
     "output_type": "stream",
     "text": [
      "Part 1: 3500 \n",
      "Part 2: 3000 \n",
      "Part 3: 4000 \n",
      "Part 4: 4000 \n",
      "Part 5: 2800 \n"
     ]
    }
   ],
   "source": [
    "for i in range(5):\n",
    "    print(f\"Part {i+1}:\", round(sum([abs(P[j][i].X+Pp[j][i].X)*R.iloc[j,i] for j in range(5)])), end=\" \")\n",
    "    print(\"\")"
   ]
  },
  {
   "cell_type": "code",
   "execution_count": 226,
   "metadata": {},
   "outputs": [
    {
     "name": "stdout",
     "output_type": "stream",
     "text": [
      "Final Objective Value:  91.07672882672884\n"
     ]
    }
   ],
   "source": [
    "print('Final Objective Value: ', model.ObjVal)"
   ]
  },
  {
   "cell_type": "code",
   "execution_count": null,
   "metadata": {},
   "outputs": [],
   "source": []
  }
 ],
 "metadata": {
  "kernelspec": {
   "display_name": "env",
   "language": "python",
   "name": "python3"
  },
  "language_info": {
   "codemirror_mode": {
    "name": "ipython",
    "version": 3
   },
   "file_extension": ".py",
   "mimetype": "text/x-python",
   "name": "python",
   "nbconvert_exporter": "python",
   "pygments_lexer": "ipython3",
   "version": "3.12.6"
  }
 },
 "nbformat": 4,
 "nbformat_minor": 2
}
