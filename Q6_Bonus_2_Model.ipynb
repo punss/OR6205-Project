{
 "cells": [
  {
   "cell_type": "code",
   "execution_count": 1,
   "metadata": {
    "id": "LuLRmRVyxDb2"
   },
   "outputs": [],
   "source": [
    "import gurobipy as gp\n",
    "from gurobipy import GRB\n",
    "import pandas as pd\n",
    "import numpy as np"
   ]
  },
  {
   "cell_type": "markdown",
   "metadata": {
    "id": "x_4M-x_nxDb3"
   },
   "source": [
    "### Defining Setup Time and Hourly Yield Constants"
   ]
  },
  {
   "cell_type": "code",
   "execution_count": 2,
   "metadata": {
    "id": "ZsdZbu6SxDb4"
   },
   "outputs": [],
   "source": [
    "T = pd.read_csv('setup_constants.csv')\n",
    "R = pd.read_csv('yield_constants.csv')"
   ]
  },
  {
   "cell_type": "code",
   "execution_count": 3,
   "metadata": {
    "id": "HKmG_xanxDb4"
   },
   "outputs": [],
   "source": [
    "T.index += 1\n",
    "R.index += 1"
   ]
  },
  {
   "cell_type": "markdown",
   "metadata": {
    "id": "syMBA1WnxDb4"
   },
   "source": [
    "### Defining Weekly Demand Constants"
   ]
  },
  {
   "cell_type": "code",
   "execution_count": 4,
   "metadata": {
    "id": "BgqcITyFxDb4"
   },
   "outputs": [],
   "source": [
    "D = pd.read_csv('weekly_demands.csv')"
   ]
  },
  {
   "cell_type": "code",
   "execution_count": 5,
   "metadata": {
    "id": "8ZqwWOQYxDb5"
   },
   "outputs": [],
   "source": [
    "D.index += 1"
   ]
  },
  {
   "cell_type": "markdown",
   "metadata": {
    "id": "gnMvyG1qxDb5"
   },
   "source": [
    "# Defining Problem"
   ]
  },
  {
   "cell_type": "code",
   "execution_count": 6,
   "metadata": {
    "colab": {
     "base_uri": "https://localhost:8080/"
    },
    "id": "uiPO-KzlxDb5",
    "outputId": "350b3825-9478-4a31-d9b8-206ef66ff743"
   },
   "outputs": [
    {
     "name": "stdout",
     "output_type": "stream",
     "text": [
      "Restricted license - for non-production use only - expires 2026-11-23\n"
     ]
    }
   ],
   "source": [
    "model = gp.Model('base_problem')"
   ]
  },
  {
   "cell_type": "markdown",
   "metadata": {
    "id": "nhrHNzjfxDb5"
   },
   "source": [
    "## Variables"
   ]
  },
  {
   "cell_type": "markdown",
   "metadata": {
    "id": "rhNm8CxkxDb5"
   },
   "source": [
    "### Adding Binary Setup Variables"
   ]
  },
  {
   "cell_type": "code",
   "execution_count": 7,
   "metadata": {
    "id": "GyZJkYUgxDb6"
   },
   "outputs": [],
   "source": [
    "Sw = []\n",
    "for w in range(2):\n",
    "    S = []\n",
    "    for i in range(5):\n",
    "        S_i = []\n",
    "        for j in range(5):\n",
    "            S_i.append(model.addVar(vtype=GRB.BINARY, name=f\"S_{i}_{j}_{w}\", lb=0))\n",
    "        S.append(S_i)\n",
    "    Sw.append(S)"
   ]
  },
  {
   "cell_type": "markdown",
   "metadata": {
    "id": "SiGvDSTBxDb6"
   },
   "source": [
    "### Adding Binary Overtime Setup Variables"
   ]
  },
  {
   "cell_type": "code",
   "execution_count": 8,
   "metadata": {
    "id": "ggRy7Du2xDb6"
   },
   "outputs": [],
   "source": [
    "Spw = []\n",
    "for w in range(2):\n",
    "    Sp = []\n",
    "    for i in range(5):\n",
    "        Sp_i = []\n",
    "        for j in range(5):\n",
    "            Sp_i.append(model.addVar(vtype=GRB.BINARY, name=f\"Sp_{i}_{j}_{w}\", lb=0))\n",
    "        Sp.append(Sp_i)\n",
    "    Spw.append(Sp)"
   ]
  },
  {
   "cell_type": "markdown",
   "metadata": {
    "id": "0b1-gFlixDb6"
   },
   "source": [
    "### Adding Production Variables"
   ]
  },
  {
   "cell_type": "code",
   "execution_count": 9,
   "metadata": {
    "id": "8dXqAPnbxDb6"
   },
   "outputs": [],
   "source": [
    "Pw = []\n",
    "for w in range(2):\n",
    "    P = []\n",
    "    for i in range(5):\n",
    "        P_i = []\n",
    "        for j in range(5):\n",
    "            P_i.append(model.addVar(vtype=GRB.CONTINUOUS, name=f\"P_{i}_{j}_{w}\", lb=0))\n",
    "        P.append(P_i)\n",
    "    Pw.append(P)"
   ]
  },
  {
   "cell_type": "markdown",
   "metadata": {
    "id": "932M7CNxxDb6"
   },
   "source": [
    "### Adding Overtime Production Variables"
   ]
  },
  {
   "cell_type": "code",
   "execution_count": 10,
   "metadata": {
    "id": "YlDYvAJmxDb7"
   },
   "outputs": [],
   "source": [
    "Ppw = []\n",
    "for w in range(2):\n",
    "    Pp = []\n",
    "    for i in range(5):\n",
    "        Pp_i = []\n",
    "        for j in range(5):\n",
    "            Pp_i.append(model.addVar(vtype=GRB.CONTINUOUS, name=f\"Pp_{i}_{j}_{w}\", lb=0))\n",
    "        Pp.append(Pp_i)\n",
    "    Ppw.append(Pp)"
   ]
  },
  {
   "cell_type": "markdown",
   "metadata": {
    "id": "qRtrWI6vxDb7"
   },
   "source": [
    "### Adding Use Variables"
   ]
  },
  {
   "cell_type": "code",
   "execution_count": 11,
   "metadata": {
    "id": "BzoCxFwdxDb7"
   },
   "outputs": [],
   "source": [
    "Uw = []\n",
    "for w in range(2):\n",
    "    U = []\n",
    "    for i in range(5):\n",
    "        U_i = []\n",
    "        for j in range(5):\n",
    "            U_i.append(model.addVar(vtype=GRB.BINARY, name=f\"U_{i}_{j}_{w}\", lb=0))\n",
    "        U.append(U_i)\n",
    "    Uw.append(U)"
   ]
  },
  {
   "cell_type": "markdown",
   "metadata": {
    "id": "ai-cD4MAxDb7"
   },
   "source": [
    "### Adding Overtime Use Variables"
   ]
  },
  {
   "cell_type": "code",
   "execution_count": 12,
   "metadata": {
    "id": "j_acxYPmxDb7"
   },
   "outputs": [],
   "source": [
    "Upw = []\n",
    "for w in range(2):\n",
    "    Up = []\n",
    "    for i in range(5):\n",
    "        Up_i = []\n",
    "        for j in range(5):\n",
    "            Up_i.append(model.addVar(vtype=GRB.BINARY, name=f\"Up_{i}_{j}_{w}\", lb=0))\n",
    "        Up.append(U_i)\n",
    "    Upw.append(Up)"
   ]
  },
  {
   "cell_type": "code",
   "execution_count": 13,
   "metadata": {
    "id": "j6j5wkojxDb7"
   },
   "outputs": [],
   "source": [
    "Tw = []\n",
    "for w in range(2):\n",
    "    Tw.append(model.addVar(vtype=GRB.CONTINUOUS, name=f\"T_{w}\", lb=0))"
   ]
  },
  {
   "cell_type": "code",
   "execution_count": 14,
   "metadata": {
    "id": "logejoDA4uU3"
   },
   "outputs": [],
   "source": [
    "inventory = []  \n",
    "for w in range(2):  \n",
    "    inventory_w = []  \n",
    "    for i in range(5): \n",
    "        # Add a continuous variable for inventory of each part for the current week\n",
    "        inventory_w.append(model.addVar(vtype=GRB.CONTINUOUS, name=f\"Inventory_{i}_{w}\", lb=0))\n",
    "        inventory_w[i].start = 0\n",
    "    inventory.append(inventory_w)  # Add the list of part inventory for this week to overall list of inventory\n"
   ]
  },
  {
   "cell_type": "code",
   "execution_count": 15,
   "metadata": {
    "id": "HzRSmqg33xah"
   },
   "outputs": [],
   "source": [
    "LoD = []  \n",
    "for w in range(2):\n",
    "    LoD_w = []\n",
    "    for i in range(5):\n",
    "        # Add a continuous variable for unmet demand of each part for the current week\n",
    "        LoD_w.append(model.addVar(vtype=GRB.CONTINUOUS, name=f\"LoD_{i}_{w}\", lb=0))\n",
    "        LoD_w[i].start = 0\n",
    "    LoD.append(LoD_w)  # Add the list of unmet demand for this week to overall list of unmet demand\n"
   ]
  },
  {
   "cell_type": "markdown",
   "metadata": {
    "id": "_0Up3DdVxDb7"
   },
   "source": [
    "## Constraints"
   ]
  },
  {
   "cell_type": "markdown",
   "metadata": {
    "id": "7NtMjUNLxDb7"
   },
   "source": [
    "### Demand Constraints"
   ]
  },
  {
   "cell_type": "code",
   "execution_count": 16,
   "metadata": {
    "id": "yc4ymNcaXr51"
   },
   "outputs": [],
   "source": [
    "for w in range(2):\n",
    "    for i in range(5):\n",
    "        constr_expr = gp.quicksum(\n",
    "            Pw[w][j][i] * R.iloc[j, i] + Ppw[w][j][i] * R.iloc[j, i] for j in range(5)\n",
    "        )\n",
    "\n",
    "        if w == 0:  # First Week\n",
    "            model.addConstr(\n",
    "                constr_expr + LoD[w][i] >= D.iloc[10, i] + inventory[w][i],\n",
    "                name=f'Demand_Prod_{i+1}_{w}_Condition1'\n",
    "            )\n",
    "        else:  # Subsequent Week\n",
    "            model.addConstr(\n",
    "                constr_expr + inventory[w-1][i] + LoD[w][i] >= D.iloc[11, i],\n",
    "                name=f'Demand_Prod_{i+1}_{w}_Condition2'\n",
    "            )\n",
    "\n"
   ]
  },
  {
   "cell_type": "markdown",
   "metadata": {
    "id": "lPhQBeXjxDb8"
   },
   "source": [
    "### Normal Production Time Constraints"
   ]
  },
  {
   "cell_type": "code",
   "execution_count": 17,
   "metadata": {
    "id": "GmBHDS5IxDb8"
   },
   "outputs": [],
   "source": [
    "for w in range(2):\n",
    "    for i in range(5):\n",
    "        constr_expr = gp.quicksum(Sw[w][i][j]*T.iloc[i,j] + Pw[w][i][j] for j in range(5))\n",
    "        model.addConstr(constr_expr <= 120, name=f'Prod_Hrs_Mach_{i+1}_{w}')"
   ]
  },
  {
   "cell_type": "markdown",
   "metadata": {
    "id": "yjxuZbhTxDb8"
   },
   "source": [
    "### Overtime Production Time Constraints"
   ]
  },
  {
   "cell_type": "code",
   "execution_count": 18,
   "metadata": {
    "id": "3KvKMRN7xDb8"
   },
   "outputs": [],
   "source": [
    "for w in range(2):\n",
    "    for i in range(5):\n",
    "        constr_expr = gp.quicksum(Spw[w][i][j]*T.iloc[i,j] + Ppw[w][i][j] for j in range(5))\n",
    "        model.addConstr(constr_expr <= 48, name=f'OT_Prod_Hrs_Mach_{i+1}_{w}')"
   ]
  },
  {
   "cell_type": "markdown",
   "metadata": {
    "id": "KVi2QWidxDb8"
   },
   "source": [
    "### Production Use Linkage Constraints\n",
    "- Regular Time and Overtime are both included here"
   ]
  },
  {
   "cell_type": "code",
   "execution_count": 19,
   "metadata": {
    "id": "kaos4Hj2xDb8"
   },
   "outputs": [],
   "source": [
    "for w in range(2):\n",
    "    for i in range(5):\n",
    "        for j in range(5):\n",
    "            model.addConstr(Pw[w][i][j]*R.iloc[i,j] <= 10000*Uw[w][i][j], name=f'UseProdLinkage_Mach_{i+1}_Prod_{j+1}_Week_{w}')\n",
    "            model.addConstr(Ppw[w][i][j]*R.iloc[i,j] <= 10000*(Uw[w][i][j]+Upw[w][i][j]), name=f'OTUseProdLinkage_Mach_{i+1}_Prod_{j+1}_Week_{w}')"
   ]
  },
  {
   "cell_type": "markdown",
   "metadata": {
    "id": "itZeUMJ9xDb8"
   },
   "source": [
    "### Setup Use Linkage Constraints\n",
    "- Regular Time and Overtime are both included here"
   ]
  },
  {
   "cell_type": "code",
   "execution_count": 20,
   "metadata": {
    "id": "_bbGx_llxDb8"
   },
   "outputs": [],
   "source": [
    "for i in range(5):\n",
    "    for j in range(5):\n",
    "        model.addConstr(Uw[0][i][j] <= 10*Sw[0][i][j], name=f'SetupUseLinkage_Mach_{i+1}_Prod_{j+1}_Week_0')\n",
    "        model.addConstr(Upw[0][i][j] <= 10*(Sw[0][i][j]+Spw[0][i][j]), name=f'SetupUseLinkage_Mach_{i+1}_Prod_{j+1}_Week_0')\n",
    "\n",
    "for i in range(5):\n",
    "    for j in range(5):\n",
    "        model.addConstr(Uw[1][i][j] <= 10*(Sw[1][i][j]+Sw[0][i][j]+Spw[0][i][j]), name=f'SetupUseLinkage_Mach_{i+1}_Prod_{j+1}_Week_1')\n",
    "        model.addConstr(Upw[1][i][j] <= 10*(Sw[0][i][j]+Spw[0][i][j]+Sw[1][i][j]+Spw[1][i][j]), name=f'SetupUseLinkage_Mach_{i+1}_Prod_{j+1}_Week_1')"
   ]
  },
  {
   "cell_type": "markdown",
   "metadata": {
    "id": "MwO9-xpCxDb8"
   },
   "source": [
    "### Maximisation Constraints\n",
    "- Since we're trying to convert the max(overtime[i]) function - which is not a linear function - to a linear function for the purpose of solving it as an LP, we add additional constraints."
   ]
  },
  {
   "cell_type": "code",
   "execution_count": 21,
   "metadata": {
    "id": "A5W31_yR8_b-"
   },
   "outputs": [],
   "source": [
    "for w in range(2):\n",
    "    for i in range(5):\n",
    "        model.addConstr(\n",
    "            gp.quicksum(\n",
    "                Spw[w][i][j] * T.iloc[i, j] + Ppw[w][i][j] for j in range(5)\n",
    "            ) <= Tw[w],\n",
    "            name=f'MaxConstr_{i}_{w}'\n",
    "        )\n"
   ]
  },
  {
   "cell_type": "markdown",
   "metadata": {
    "id": "RFbwKm72xDb9"
   },
   "source": [
    "## Objective Function"
   ]
  },
  {
   "cell_type": "code",
   "execution_count": 22,
   "metadata": {
    "id": "l-_kGhyNxDb9"
   },
   "outputs": [],
   "source": [
    "obj_parts = []\n",
    "for w in range(2):\n",
    "    for i in range(5):\n",
    "        obj_parts.append(gp.quicksum(Spw[w][i][j]*T.iloc[i,j] + Ppw[w][i][j] for j in range(5)))"
   ]
  },
  {
   "cell_type": "code",
   "execution_count": 23,
   "metadata": {
    "id": "vl3mRk9S-TlH"
   },
   "outputs": [],
   "source": [
    "model.setObjective(\n",
    "    gp.quicksum(Tw[w] * 40 for w in range(len(Tw))) +  # Summing over Tw\n",
    "    gp.quicksum(obj_parts) * 30 +  # Summing obj_parts (already a summation)\n",
    "    gp.quicksum(LoD[w][i] * 3 for w in range(len(LoD)) for i in range(len(LoD[w]))) +  # Summing LoD\n",
    "    gp.quicksum(inventory[0][i] * 2 for i in range(5)),  # Summing inventory\n",
    "    GRB.MINIMIZE\n",
    ")\n"
   ]
  },
  {
   "cell_type": "code",
   "execution_count": 24,
   "metadata": {
    "id": "sCcbx5aLxDb9"
   },
   "outputs": [],
   "source": [
    "model.update()"
   ]
  },
  {
   "cell_type": "code",
   "execution_count": 25,
   "metadata": {
    "colab": {
     "base_uri": "https://localhost:8080/"
    },
    "id": "AyXtDqiHxDb9",
    "outputId": "6d09113b-5f42-44dc-d308-fd9349db723e"
   },
   "outputs": [
    {
     "data": {
      "text/plain": [
       "<gurobi.LinExpr: 240.0 Sp_0_0_0 + 240.0 Sp_0_3_0 + 300.0 Sp_1_0_0 + 240.0 Sp_1_1_0 + 300.0 Sp_2_1_0 + 720.0 Sp_2_4_0 + 240.0 Sp_3_1_0 + 360.0 Sp_3_2_0 + 240.0 Sp_4_3_0 + 600.0 Sp_4_4_0 + 240.0 Sp_0_0_1 + 240.0 Sp_0_3_1 + 300.0 Sp_1_0_1 + 240.0 Sp_1_1_1 + 300.0 Sp_2_1_1 + 720.0 Sp_2_4_1 + 240.0 Sp_3_1_1 + 360.0 Sp_3_2_1 + 240.0 Sp_4_3_1 + 600.0 Sp_4_4_1 + 30.0 Pp_0_0_0 + 30.0 Pp_0_1_0 + 30.0 Pp_0_2_0 + 30.0 Pp_0_3_0 + 30.0 Pp_0_4_0 + 30.0 Pp_1_0_0 + 30.0 Pp_1_1_0 + 30.0 Pp_1_2_0 + 30.0 Pp_1_3_0 + 30.0 Pp_1_4_0 + 30.0 Pp_2_0_0 + 30.0 Pp_2_1_0 + 30.0 Pp_2_2_0 + 30.0 Pp_2_3_0 + 30.0 Pp_2_4_0 + 30.0 Pp_3_0_0 + 30.0 Pp_3_1_0 + 30.0 Pp_3_2_0 + 30.0 Pp_3_3_0 + 30.0 Pp_3_4_0 + 30.0 Pp_4_0_0 + 30.0 Pp_4_1_0 + 30.0 Pp_4_2_0 + 30.0 Pp_4_3_0 + 30.0 Pp_4_4_0 + 30.0 Pp_0_0_1 + 30.0 Pp_0_1_1 + 30.0 Pp_0_2_1 + 30.0 Pp_0_3_1 + 30.0 Pp_0_4_1 + 30.0 Pp_1_0_1 + 30.0 Pp_1_1_1 + 30.0 Pp_1_2_1 + 30.0 Pp_1_3_1 + 30.0 Pp_1_4_1 + 30.0 Pp_2_0_1 + 30.0 Pp_2_1_1 + 30.0 Pp_2_2_1 + 30.0 Pp_2_3_1 + 30.0 Pp_2_4_1 + 30.0 Pp_3_0_1 + 30.0 Pp_3_1_1 + 30.0 Pp_3_2_1 + 30.0 Pp_3_3_1 + 30.0 Pp_3_4_1 + 30.0 Pp_4_0_1 + 30.0 Pp_4_1_1 + 30.0 Pp_4_2_1 + 30.0 Pp_4_3_1 + 30.0 Pp_4_4_1 + 40.0 T_0 + 40.0 T_1 + 2.0 Inventory_0_0 + 2.0 Inventory_1_0 + 2.0 Inventory_2_0 + 2.0 Inventory_3_0 + 2.0 Inventory_4_0 + 3.0 LoD_0_0 + 3.0 LoD_1_0 + 3.0 LoD_2_0 + 3.0 LoD_3_0 + 3.0 LoD_4_0 + 3.0 LoD_0_1 + 3.0 LoD_1_1 + 3.0 LoD_2_1 + 3.0 LoD_3_1 + 3.0 LoD_4_1>"
      ]
     },
     "execution_count": 25,
     "metadata": {},
     "output_type": "execute_result"
    }
   ],
   "source": [
    "model.getObjective()"
   ]
  },
  {
   "cell_type": "code",
   "execution_count": 26,
   "metadata": {
    "colab": {
     "base_uri": "https://localhost:8080/"
    },
    "id": "y4tzBOrYxDb9",
    "outputId": "b70e3e6a-cffc-4df4-bd32-fb2366405d70"
   },
   "outputs": [
    {
     "name": "stdout",
     "output_type": "stream",
     "text": [
      "Gurobi Optimizer version 12.0.0 build v12.0.0rc1 (mac64[arm] - Darwin 24.0.0 24A348)\n",
      "\n",
      "CPU model: Apple M3 Pro\n",
      "Thread count: 11 physical cores, 11 logical processors, using up to 11 threads\n",
      "\n",
      "Optimize a model with 240 rows, 322 columns and 815 nonzeros\n",
      "Model fingerprint: 0x10918c13\n",
      "Variable types: 122 continuous, 200 integer (200 binary)\n",
      "Coefficient statistics:\n",
      "  Matrix range     [1e+00, 2e+04]\n",
      "  Objective range  [2e+00, 7e+02]\n",
      "  Bounds range     [1e+00, 1e+00]\n",
      "  RHS range        [5e+01, 5e+03]\n",
      "\n",
      "Warning: Completing partial solution with 200 unfixed non-continuous variables out of 200\n",
      "User MIP start did not produce a new incumbent solution\n",
      "\n",
      "Found heuristic solution: objective 117600.00000\n",
      "Presolve removed 142 rows and 224 columns\n",
      "Presolve time: 0.00s\n",
      "Presolved: 98 rows, 98 columns, 329 nonzeros\n",
      "Variable types: 57 continuous, 41 integer (41 binary)\n",
      "\n",
      "Root relaxation: objective 1.359547e+04, 98 iterations, 0.00 seconds (0.00 work units)\n",
      "\n",
      "    Nodes    |    Current Node    |     Objective Bounds      |     Work\n",
      " Expl Unexpl |  Obj  Depth IntInf | Incumbent    BestBd   Gap | It/Node Time\n",
      "\n",
      "     0     0 13595.4736    0   22 117600.000 13595.4736  88.4%     -    0s\n",
      "H    0     0                    18388.951394 13595.4736  26.1%     -    0s\n",
      "H    0     0                    15408.837243 13595.4736  11.8%     -    0s\n",
      "     0     0 14426.7169    0   23 15408.8372 14426.7169  6.37%     -    0s\n",
      "     0     0 14767.3139    0   17 15408.8372 14767.3139  4.16%     -    0s\n",
      "H    0     0                    15282.089670 15213.8523  0.45%     -    0s\n",
      "     0     0 15282.0897    0   15 15282.0897 15282.0897  0.00%     -    0s\n",
      "\n",
      "Cutting planes:\n",
      "  Gomory: 4\n",
      "  Cover: 2\n",
      "  Implied bound: 1\n",
      "  MIR: 10\n",
      "  Flow cover: 8\n",
      "  RLT: 4\n",
      "  Relax-and-lift: 4\n",
      "\n",
      "Explored 1 nodes (182 simplex iterations) in 0.02 seconds (0.01 work units)\n",
      "Thread count was 11 (of 11 available processors)\n",
      "\n",
      "Solution count 4: 15282.1 15408.8 18389 117600 \n",
      "\n",
      "Optimal solution found (tolerance 1.00e-04)\n",
      "Best objective 1.528208967004e+04, best bound 1.528208967004e+04, gap 0.0000%\n"
     ]
    }
   ],
   "source": [
    "model.optimize()"
   ]
  },
  {
   "cell_type": "code",
   "execution_count": 27,
   "metadata": {
    "colab": {
     "base_uri": "https://localhost:8080/"
    },
    "id": "cG4GUDOAxDb9",
    "outputId": "eb3c80fe-4a30-450f-985c-ac67016ff58c"
   },
   "outputs": [],
   "source": [
    "assert model.Status == GRB.OPTIMAL"
   ]
  },
  {
   "cell_type": "code",
   "execution_count": 28,
   "metadata": {
    "colab": {
     "base_uri": "https://localhost:8080/"
    },
    "id": "KvNEhRtFxDb9",
    "outputId": "733f24cb-007f-400b-b351-f1fcc3085f22"
   },
   "outputs": [
    {
     "name": "stdout",
     "output_type": "stream",
     "text": [
      "Machine 1: 8 0 0 8 0 \n",
      "Machine 2: 10 0 0 0 0 \n",
      "Machine 3: 0 10 0 0 24 \n",
      "Machine 4: 0 8 12 0 0 \n",
      "Machine 5: 0 0 0 0 20 \n"
     ]
    }
   ],
   "source": [
    "for i in range(5):\n",
    "    print(f'Machine {i+1}: ', end='')\n",
    "    for j in range(5):\n",
    "        print(int(abs(Sw[0][i][j].X*T.iloc[i,j])), end=\" \")\n",
    "    print(\"\")"
   ]
  },
  {
   "cell_type": "code",
   "execution_count": 29,
   "metadata": {
    "colab": {
     "base_uri": "https://localhost:8080/"
    },
    "id": "gd6p3VcKxDb9",
    "outputId": "e07f43ef-cea6-4324-cebf-8942063da034"
   },
   "outputs": [
    {
     "name": "stdout",
     "output_type": "stream",
     "text": [
      "Machine 1: 0 0 0 0 0 \n",
      "Machine 2: 0 8 0 0 0 \n",
      "Machine 3: 0 0 0 0 0 \n",
      "Machine 4: 0 0 0 0 0 \n",
      "Machine 5: 0 0 0 0 0 \n"
     ]
    }
   ],
   "source": [
    "for i in range(5):\n",
    "    print(f'Machine {i+1}: ', end='')\n",
    "    for j in range(5):\n",
    "        print(int(abs(Sw[1][i][j].X*T.iloc[i,j])), end=\" \")\n",
    "    print(\"\")"
   ]
  },
  {
   "cell_type": "code",
   "execution_count": 30,
   "metadata": {
    "colab": {
     "base_uri": "https://localhost:8080/"
    },
    "id": "ZAiu3WBGxDb9",
    "outputId": "e3e08019-4e84-4080-dad4-fb9248f76a3e"
   },
   "outputs": [
    {
     "name": "stdout",
     "output_type": "stream",
     "text": [
      "Machine 1: 0 0 0 0 0 \n",
      "Machine 2: 0 0 0 0 0 \n",
      "Machine 3: 0 0 0 0 0 \n",
      "Machine 4: 0 0 0 0 0 \n",
      "Machine 5: 0 0 0 8 0 \n"
     ]
    }
   ],
   "source": [
    "for i in range(5):\n",
    "    print(f'Machine {i+1}: ', end='')\n",
    "    for j in range(5):\n",
    "        print(int(abs(Spw[0][i][j].X*T.iloc[i,j])), end=\" \")\n",
    "    print(\"\")"
   ]
  },
  {
   "cell_type": "code",
   "execution_count": 31,
   "metadata": {
    "colab": {
     "base_uri": "https://localhost:8080/"
    },
    "id": "bvFOSbJKxDb-",
    "outputId": "7c75773a-2b7d-457d-f015-0f4b2a11a4a0"
   },
   "outputs": [
    {
     "name": "stdout",
     "output_type": "stream",
     "text": [
      "Machine 1: 0 0 0 0 0 \n",
      "Machine 2: 0 0 0 0 0 \n",
      "Machine 3: 0 0 0 0 0 \n",
      "Machine 4: 0 0 0 0 0 \n",
      "Machine 5: 0 0 0 0 0 \n"
     ]
    }
   ],
   "source": [
    "for i in range(5):\n",
    "    print(f'Machine {i+1}: ', end='')\n",
    "    for j in range(5):\n",
    "        print(int(abs(Spw[1][i][j].X*T.iloc[i,j])), end=\" \")\n",
    "    print(\"\")"
   ]
  },
  {
   "cell_type": "code",
   "execution_count": 32,
   "metadata": {
    "colab": {
     "base_uri": "https://localhost:8080/"
    },
    "id": "95xcn435xDb-",
    "outputId": "59082c04-ce1d-4711-de63-914b2b014593"
   },
   "outputs": [
    {
     "name": "stdout",
     "output_type": "stream",
     "text": [
      "Machine 1: 1.25 0.0 0.0 102.75 0.0 \n",
      "Machine 2: 110.0 0.0 0.0 0.0 0.0 \n",
      "Machine 3: 0.0 86.0 0.0 0.0 0.0 \n",
      "Machine 4: 0.0 0.0 100.0 0.0 0.0 \n",
      "Machine 5: 0.0 0.0 0.0 0.0 100.0 \n"
     ]
    }
   ],
   "source": [
    "for i in range(5):\n",
    "    print(f'Machine {i+1}: ', end='')\n",
    "    for j in range(5):\n",
    "        print((abs(Pw[0][i][j].X)), end=\" \")\n",
    "    print(\"\")"
   ]
  },
  {
   "cell_type": "code",
   "execution_count": 33,
   "metadata": {
    "colab": {
     "base_uri": "https://localhost:8080/"
    },
    "id": "uQpvHMCwxDb-",
    "outputId": "a59afc56-9493-44da-bfbd-d4184fef5b25"
   },
   "outputs": [
    {
     "name": "stdout",
     "output_type": "stream",
     "text": [
      "Machine 1: 46.67752959015096 0.0 0.0 73.32247040984905 0.0 \n",
      "Machine 2: 89.51139475411318 22.488605245886777 0.0 0.0 0.0 \n",
      "Machine 3: 0.0 120.0 0.0 0.0 0.0 \n",
      "Machine 4: 0.0 13.333333333333334 106.66666666666667 0.0 0.0 \n",
      "Machine 5: 0.0 0.0 0.0 31.800303256613947 88.19969674338606 \n"
     ]
    }
   ],
   "source": [
    "for i in range(5):\n",
    "    print(f'Machine {i+1}: ', end='')\n",
    "    for j in range(5):\n",
    "        print((abs(Pw[1][i][j].X)), end=\" \")\n",
    "    print(\"\")"
   ]
  },
  {
   "cell_type": "code",
   "execution_count": 34,
   "metadata": {
    "colab": {
     "base_uri": "https://localhost:8080/"
    },
    "id": "i--ZYhSnxDb-",
    "outputId": "0ad4aba5-c4ca-4f3b-8613-ce0f672cfa01"
   },
   "outputs": [
    {
     "name": "stdout",
     "output_type": "stream",
     "text": [
      "Machine 1: 48.0 0.0 0.0 0.0 0.0 \n",
      "Machine 2: 48.0 0.0 0.0 0.0 0.0 \n",
      "Machine 3: 0.0 34.53133903133903 0.0 0.0 13.468660968660968 \n",
      "Machine 4: 0.0 14.666666666666666 33.333333333333336 0.0 0.0 \n",
      "Machine 5: 0.0 0.0 0.0 25.455128205128204 14.544871794871796 \n"
     ]
    }
   ],
   "source": [
    "for i in range(5):\n",
    "    print(f'Machine {i+1}: ', end='')\n",
    "    for j in range(5):\n",
    "        print((abs(Ppw[0][i][j].X)), end=\" \")\n",
    "    print(\"\")"
   ]
  },
  {
   "cell_type": "code",
   "execution_count": 35,
   "metadata": {
    "colab": {
     "base_uri": "https://localhost:8080/"
    },
    "id": "V34lhe8SxDb-",
    "outputId": "407b5885-9944-4876-86bd-7c7c7c0362e9"
   },
   "outputs": [
    {
     "name": "stdout",
     "output_type": "stream",
     "text": [
      "Machine 1: 0.0 0.0 0.0 5.133636589947275 0.0 \n",
      "Machine 2: 0.0 5.133636589947275 0.0 0.0 0.0 \n",
      "Machine 3: 0.0 5.133636589947275 0.0 0.0 0.0 \n",
      "Machine 4: 0.0 5.133636589947275 0.0 0.0 0.0 \n",
      "Machine 5: 0.0 0.0 0.0 0.0 5.13363658994728 \n"
     ]
    }
   ],
   "source": [
    "for i in range(5):\n",
    "    print(f'Machine {i+1}: ', end='')\n",
    "    for j in range(5):\n",
    "        print((abs(Ppw[1][i][j].X)), end=\" \")\n",
    "    print(\"\")"
   ]
  },
  {
   "cell_type": "code",
   "execution_count": 36,
   "metadata": {
    "colab": {
     "base_uri": "https://localhost:8080/"
    },
    "id": "VXuXk18IxDb-",
    "outputId": "7fe2f831-226b-4646-8044-2a2babc7de45"
   },
   "outputs": [
    {
     "name": "stdout",
     "output_type": "stream",
     "text": [
      "**** Week 1 ****\n",
      "Part 1: 4500 \n",
      "Part 2: 2271 \n",
      "Part 3: 5000 \n",
      "Part 4: 5000 \n",
      "Part 5: 3800 \n"
     ]
    }
   ],
   "source": [
    "print(\"**** Week 1 ****\")\n",
    "for i in range(5):\n",
    "    print(f\"Part {i+1}:\", round(sum([abs(Pw[0][j][i].X+Ppw[0][j][i].X)*R.iloc[j,i] for j in range(5)])), end=\" \")\n",
    "    print(\"\")"
   ]
  },
  {
   "cell_type": "code",
   "execution_count": 37,
   "metadata": {
    "colab": {
     "base_uri": "https://localhost:8080/"
    },
    "id": "aOBk1WfqxDb-",
    "outputId": "ae58d814-2ac8-4a86-95dd-ea693a4386e3"
   },
   "outputs": [
    {
     "name": "stdout",
     "output_type": "stream",
     "text": [
      "**** Week 2 ****\n",
      "Part 1: 3000 \n",
      "Part 2: 2800 \n",
      "Part 3: 4000 \n",
      "Part 4: 4300 \n",
      "Part 5: 2800 \n"
     ]
    }
   ],
   "source": [
    "print(\"**** Week 2 ****\")\n",
    "for i in range(5):\n",
    "    print(f\"Part {i+1}:\", round(sum([abs(Pw[1][j][i].X+Ppw[1][j][i].X)*R.iloc[j,i] for j in range(5)])), end=\" \")\n",
    "    print(\"\")"
   ]
  },
  {
   "cell_type": "code",
   "execution_count": 38,
   "metadata": {
    "id": "yjd33ZbgxDb-"
   },
   "outputs": [
    {
     "name": "stdout",
     "output_type": "stream",
     "text": [
      "Final Objective Value:  15282.089670038698\n"
     ]
    }
   ],
   "source": [
    "print('Final Objective Value: ', model.ObjVal)"
   ]
  },
  {
   "cell_type": "code",
   "execution_count": null,
   "metadata": {
    "id": "tDqpHMcMxDb-"
   },
   "outputs": [],
   "source": []
  }
 ],
 "metadata": {
  "colab": {
   "provenance": []
  },
  "kernelspec": {
   "display_name": "env",
   "language": "python",
   "name": "python3"
  },
  "language_info": {
   "codemirror_mode": {
    "name": "ipython",
    "version": 3
   },
   "file_extension": ".py",
   "mimetype": "text/x-python",
   "name": "python",
   "nbconvert_exporter": "python",
   "pygments_lexer": "ipython3",
   "version": "3.12.6"
  }
 },
 "nbformat": 4,
 "nbformat_minor": 0
}
