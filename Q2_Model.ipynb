{
 "cells": [
  {
   "cell_type": "code",
   "execution_count": 26,
   "metadata": {},
   "outputs": [],
   "source": [
    "import gurobipy as gp\n",
    "from gurobipy import GRB\n",
    "import pandas as pd\n",
    "import numpy as np"
   ]
  },
  {
   "cell_type": "markdown",
   "metadata": {},
   "source": [
    "### Defining Setup Time and Hourly Yield Constants"
   ]
  },
  {
   "cell_type": "code",
   "execution_count": 27,
   "metadata": {},
   "outputs": [],
   "source": [
    "T = pd.read_csv('setup_constants.csv')\n",
    "R = pd.read_csv('yield_constants.csv')"
   ]
  },
  {
   "cell_type": "code",
   "execution_count": 28,
   "metadata": {},
   "outputs": [],
   "source": [
    "T.index += 1\n",
    "R.index += 1"
   ]
  },
  {
   "cell_type": "markdown",
   "metadata": {},
   "source": [
    "### Defining Weekly Demand Constants"
   ]
  },
  {
   "cell_type": "code",
   "execution_count": 29,
   "metadata": {},
   "outputs": [],
   "source": [
    "D = pd.read_csv('weekly_demands.csv')"
   ]
  },
  {
   "cell_type": "code",
   "execution_count": 30,
   "metadata": {},
   "outputs": [],
   "source": [
    "D.index += 1"
   ]
  },
  {
   "cell_type": "markdown",
   "metadata": {},
   "source": [
    "# Defining Problem"
   ]
  },
  {
   "cell_type": "code",
   "execution_count": 31,
   "metadata": {},
   "outputs": [],
   "source": [
    "model = gp.Model('base_problem')"
   ]
  },
  {
   "cell_type": "markdown",
   "metadata": {},
   "source": [
    "## Variables"
   ]
  },
  {
   "cell_type": "markdown",
   "metadata": {},
   "source": [
    "### Adding Binary Setup Variables"
   ]
  },
  {
   "cell_type": "code",
   "execution_count": 32,
   "metadata": {},
   "outputs": [],
   "source": [
    "S = []\n",
    "for i in range(5):\n",
    "    S_i = []\n",
    "    for j in range(5):\n",
    "        S_i.append(model.addVar(vtype=GRB.BINARY, name=f\"S_{i}_{j}\", lb=0))\n",
    "    S.append(S_i)"
   ]
  },
  {
   "cell_type": "markdown",
   "metadata": {},
   "source": [
    "### Adding Binary Overtime Setup Variables"
   ]
  },
  {
   "cell_type": "code",
   "execution_count": 33,
   "metadata": {},
   "outputs": [],
   "source": [
    "Sp = []\n",
    "for i in range(5):\n",
    "    Sp_i = []\n",
    "    for j in range(5):\n",
    "        Sp_i.append(model.addVar(vtype=GRB.BINARY, name=f\"Sp_{i}_{j}\", lb=0))\n",
    "    Sp.append(Sp_i)"
   ]
  },
  {
   "cell_type": "markdown",
   "metadata": {},
   "source": [
    "### Adding Production Variables"
   ]
  },
  {
   "cell_type": "code",
   "execution_count": 34,
   "metadata": {},
   "outputs": [],
   "source": [
    "P = []\n",
    "for i in range(5):\n",
    "    P_i = []\n",
    "    for j in range(5):\n",
    "        P_i.append(model.addVar(vtype=GRB.CONTINUOUS, name=f\"P_{i}_{j}\", lb=0))\n",
    "    P.append(P_i)"
   ]
  },
  {
   "cell_type": "markdown",
   "metadata": {},
   "source": [
    "### Adding Overtime Production Variables"
   ]
  },
  {
   "cell_type": "code",
   "execution_count": 35,
   "metadata": {},
   "outputs": [],
   "source": [
    "Pp = []\n",
    "for i in range(5):\n",
    "    Pp_i = []\n",
    "    for j in range(5):\n",
    "        Pp_i.append(model.addVar(vtype=GRB.CONTINUOUS, name=f\"Pp_{i}_{j}\", lb=0))\n",
    "    Pp.append(Pp_i)"
   ]
  },
  {
   "cell_type": "markdown",
   "metadata": {},
   "source": [
    "## Constraints"
   ]
  },
  {
   "cell_type": "markdown",
   "metadata": {},
   "source": [
    "### Demand Constraints"
   ]
  },
  {
   "cell_type": "code",
   "execution_count": 36,
   "metadata": {},
   "outputs": [
    {
     "name": "stderr",
     "output_type": "stream",
     "text": [
      "/var/folders/w_/z02fg3l56_jfc9tys40hqtdm0000gn/T/ipykernel_27623/2297407209.py:3: FutureWarning: Series.__getitem__ treating keys as positions is deprecated. In a future version, integer keys will always be treated as labels (consistent with DataFrame behavior). To access a value by position, use `ser.iloc[pos]`\n",
      "  model.addConstr(constr_expr >= D.iloc[0][i], name=f'Demand_Prod_{i+1}')\n"
     ]
    }
   ],
   "source": [
    "for i in range(5):\n",
    "    constr_expr = gp.quicksum(P[j][i]*R.iloc[j,i] + Pp[j][i]*R.iloc[j,i] for j in range(5))\n",
    "    model.addConstr(constr_expr >= D.iloc[0][i], name=f'Demand_Prod_{i+1}')"
   ]
  },
  {
   "cell_type": "markdown",
   "metadata": {},
   "source": [
    "### Normal Production Time Constraints"
   ]
  },
  {
   "cell_type": "code",
   "execution_count": 37,
   "metadata": {},
   "outputs": [],
   "source": [
    "for i in range(5):\n",
    "    constr_expr = gp.quicksum(S[i][j]*T.iloc[i,j] + P[i][j] for j in range(5))\n",
    "    model.addConstr(constr_expr <= 120, name=f'Prod_Hrs_Mach_{i+1}')"
   ]
  },
  {
   "cell_type": "markdown",
   "metadata": {},
   "source": [
    "### Overtime Production Time Constraints"
   ]
  },
  {
   "cell_type": "code",
   "execution_count": 38,
   "metadata": {},
   "outputs": [],
   "source": [
    "for i in range(5):\n",
    "    constr_expr = gp.quicksum(Sp[i][j]*T.iloc[i,j] + Pp[i][j] for j in range(5))\n",
    "    model.addConstr(constr_expr <= 48, name=f'OT_Prod_Hrs_Mach_{i+1}')"
   ]
  },
  {
   "cell_type": "markdown",
   "metadata": {},
   "source": [
    "### Production Setup Linkage Constants\n",
    "- Regular Time and Overtime are both included here"
   ]
  },
  {
   "cell_type": "code",
   "execution_count": 39,
   "metadata": {},
   "outputs": [],
   "source": [
    "for i in range(5):\n",
    "    for j in range(5):\n",
    "        model.addConstr(P[i][j]*R.iloc[i,j] <= 10000*S[i][j], name=f'SetupProdLinkage_Mach_{i+1}_Prod_{j+1}')\n",
    "        model.addConstr(Pp[i][j]*R.iloc[i,j] <= 10000*(S[i][j]+Sp[i][j]), name=f'OTSetupProdLinkage_Mach_{i+1}_Prod_{j+1}')"
   ]
  },
  {
   "cell_type": "markdown",
   "metadata": {},
   "source": [
    "## Objective Function"
   ]
  },
  {
   "cell_type": "code",
   "execution_count": 40,
   "metadata": {},
   "outputs": [],
   "source": [
    "obj_parts = []\n",
    "for i in range(5):\n",
    "    obj_parts.append(gp.quicksum(Sp[i][j]*T.iloc[i,j] + Pp[i][j] for j in range(5)))"
   ]
  },
  {
   "cell_type": "code",
   "execution_count": 41,
   "metadata": {},
   "outputs": [],
   "source": [
    "model.setObjective(gp.quicksum(obj_parts),GRB.MINIMIZE)"
   ]
  },
  {
   "cell_type": "code",
   "execution_count": 42,
   "metadata": {},
   "outputs": [],
   "source": [
    "model.update()"
   ]
  },
  {
   "cell_type": "code",
   "execution_count": 43,
   "metadata": {},
   "outputs": [
    {
     "data": {
      "text/plain": [
       "<gurobi.LinExpr: 8.0 Sp_0_0 + 8.0 Sp_0_3 + 10.0 Sp_1_0 + 8.0 Sp_1_1 + 10.0 Sp_2_1 + 24.0 Sp_2_4 + 8.0 Sp_3_1 + 12.0 Sp_3_2 + 8.0 Sp_4_3 + 20.0 Sp_4_4 + Pp_0_0 + Pp_0_1 + Pp_0_2 + Pp_0_3 + Pp_0_4 + Pp_1_0 + Pp_1_1 + Pp_1_2 + Pp_1_3 + Pp_1_4 + Pp_2_0 + Pp_2_1 + Pp_2_2 + Pp_2_3 + Pp_2_4 + Pp_3_0 + Pp_3_1 + Pp_3_2 + Pp_3_3 + Pp_3_4 + Pp_4_0 + Pp_4_1 + Pp_4_2 + Pp_4_3 + Pp_4_4>"
      ]
     },
     "execution_count": 43,
     "metadata": {},
     "output_type": "execute_result"
    }
   ],
   "source": [
    "model.getObjective()"
   ]
  },
  {
   "cell_type": "code",
   "execution_count": 44,
   "metadata": {},
   "outputs": [
    {
     "name": "stdout",
     "output_type": "stream",
     "text": [
      "Gurobi Optimizer version 12.0.0 build v12.0.0rc1 (mac64[arm] - Darwin 24.0.0 24A348)\n",
      "\n",
      "CPU model: Apple M3 Pro\n",
      "Thread count: 11 physical cores, 11 logical processors, using up to 11 threads\n",
      "\n",
      "Optimize a model with 65 rows, 100 columns and 185 nonzeros\n",
      "Model fingerprint: 0x6c1530b5\n",
      "Variable types: 50 continuous, 50 integer (50 binary)\n",
      "Coefficient statistics:\n",
      "  Matrix range     [1e+00, 1e+04]\n",
      "  Objective range  [1e+00, 2e+01]\n",
      "  Bounds range     [1e+00, 1e+00]\n",
      "  RHS range        [5e+01, 4e+03]\n",
      "Found heuristic solution: objective 186.5483405\n",
      "Presolve removed 39 rows and 69 columns\n",
      "Presolve time: 0.00s\n",
      "Presolved: 26 rows, 31 columns, 82 nonzeros\n",
      "Found heuristic solution: objective 178.5483405\n",
      "Variable types: 16 continuous, 15 integer (15 binary)\n",
      "\n",
      "Root relaxation: objective 1.120894e+02, 19 iterations, 0.00 seconds (0.00 work units)\n",
      "\n",
      "    Nodes    |    Current Node    |     Objective Bounds      |     Work\n",
      " Expl Unexpl |  Obj  Depth IntInf | Incumbent    BestBd   Gap | It/Node Time\n",
      "\n",
      "     0     0  112.08943    0    6  178.54834  112.08943  37.2%     -    0s\n",
      "H    0     0                     128.0767288  112.08943  12.5%     -    0s\n",
      "H    0     0                     119.7644578  112.08943  6.41%     -    0s\n",
      "\n",
      "Cutting planes:\n",
      "  Implied bound: 1\n",
      "  Relax-and-lift: 1\n",
      "\n",
      "Explored 1 nodes (19 simplex iterations) in 0.01 seconds (0.00 work units)\n",
      "Thread count was 11 (of 11 available processors)\n",
      "\n",
      "Solution count 4: 119.764 128.077 178.548 186.548 \n",
      "\n",
      "Optimal solution found (tolerance 1.00e-04)\n",
      "Best objective 1.197644577645e+02, best bound 1.197644577645e+02, gap 0.0000%\n"
     ]
    }
   ],
   "source": [
    "model.optimize()"
   ]
  },
  {
   "cell_type": "code",
   "execution_count": 45,
   "metadata": {},
   "outputs": [
    {
     "data": {
      "text/plain": [
       "True"
      ]
     },
     "execution_count": 45,
     "metadata": {},
     "output_type": "execute_result"
    }
   ],
   "source": [
    "model.Status == GRB.OPTIMAL"
   ]
  },
  {
   "cell_type": "code",
   "execution_count": 46,
   "metadata": {},
   "outputs": [
    {
     "name": "stdout",
     "output_type": "stream",
     "text": [
      "Machine 1: 8 0 0 8 0 \n",
      "Machine 2: 10 0 0 0 0 \n",
      "Machine 3: 0 10 0 0 0 \n",
      "Machine 4: 0 8 12 0 0 \n",
      "Machine 5: 0 0 0 0 20 \n"
     ]
    }
   ],
   "source": [
    "for i in range(5):\n",
    "    print(f'Machine {i+1}: ', end='')\n",
    "    for j in range(5):\n",
    "        print(int(abs(S[i][j].X*T.iloc[i,j])), end=\" \")\n",
    "    print(\"\")"
   ]
  },
  {
   "cell_type": "code",
   "execution_count": 47,
   "metadata": {},
   "outputs": [
    {
     "name": "stdout",
     "output_type": "stream",
     "text": [
      "Machine 1: 0 0 0 0 0 \n",
      "Machine 2: 0 0 0 0 0 \n",
      "Machine 3: 0 0 0 0 0 \n",
      "Machine 4: 0 0 0 0 0 \n",
      "Machine 5: 0 0 0 0 0 \n"
     ]
    }
   ],
   "source": [
    "for i in range(5):\n",
    "    print(f'Machine {i+1}: ', end='')\n",
    "    for j in range(5):\n",
    "        print(int(abs(Sp[i][j].X*T.iloc[i,j])), end=\" \")\n",
    "    print(\"\")"
   ]
  },
  {
   "cell_type": "code",
   "execution_count": 48,
   "metadata": {},
   "outputs": [
    {
     "name": "stdout",
     "output_type": "stream",
     "text": [
      "Machine 1: 49.43589743589781 0.0 0.0 54.56410256410219 0.0 \n",
      "Machine 2: 110.0 0.0 0.0 0.0 0.0 \n",
      "Machine 3: 0.0 110.0 0.0 0.0 0.0 \n",
      "Machine 4: 0.0 41.333333333333336 58.666666666666664 0.0 0.0 \n",
      "Machine 5: 0.0 0.0 0.0 0.0 93.33333333333333 \n"
     ]
    }
   ],
   "source": [
    "for i in range(5):\n",
    "    print(f'Machine {i+1}: ', end='')\n",
    "    for j in range(5):\n",
    "        print((abs(P[i][j].X)), end=\" \")\n",
    "    print(\"\")"
   ]
  },
  {
   "cell_type": "code",
   "execution_count": 49,
   "metadata": {},
   "outputs": [
    {
     "name": "stdout",
     "output_type": "stream",
     "text": [
      "Machine 1: 0.0 0.0 0.0 48.0 0.0 \n",
      "Machine 2: 0.16849816849775207 0.0 0.0 0.0 0.0 \n",
      "Machine 3: 0.0 23.595959595959197 0.0 0.0 0.0 \n",
      "Machine 4: 0.0 0.0 48.0 0.0 0.0 \n",
      "Machine 5: 0.0 0.0 0.0 0.0 0.0 \n"
     ]
    }
   ],
   "source": [
    "for i in range(5):\n",
    "    print(f'Machine {i+1}: ', end='')\n",
    "    for j in range(5):\n",
    "        print((abs(Pp[i][j].X)), end=\" \")\n",
    "    print(\"\")"
   ]
  },
  {
   "cell_type": "code",
   "execution_count": 50,
   "metadata": {},
   "outputs": [
    {
     "name": "stdout",
     "output_type": "stream",
     "text": [
      "Final Objective Value:  119.76445776445695\n"
     ]
    }
   ],
   "source": [
    "print('Final Objective Value: ', model.ObjVal)"
   ]
  },
  {
   "cell_type": "code",
   "execution_count": null,
   "metadata": {},
   "outputs": [],
   "source": []
  }
 ],
 "metadata": {
  "kernelspec": {
   "display_name": "env",
   "language": "python",
   "name": "python3"
  },
  "language_info": {
   "codemirror_mode": {
    "name": "ipython",
    "version": 3
   },
   "file_extension": ".py",
   "mimetype": "text/x-python",
   "name": "python",
   "nbconvert_exporter": "python",
   "pygments_lexer": "ipython3",
   "version": "3.12.6"
  }
 },
 "nbformat": 4,
 "nbformat_minor": 2
}
