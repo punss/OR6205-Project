{
 "cells": [
  {
   "cell_type": "code",
   "execution_count": 27,
   "metadata": {},
   "outputs": [],
   "source": [
    "import gurobipy as gp\n",
    "from gurobipy import GRB\n",
    "import pandas as pd\n",
    "import numpy as np"
   ]
  },
  {
   "cell_type": "markdown",
   "metadata": {},
   "source": [
    "### Defining Setup Time and Hourly Yield Constants"
   ]
  },
  {
   "cell_type": "code",
   "execution_count": 28,
   "metadata": {},
   "outputs": [],
   "source": [
    "T = pd.read_csv('setup_constants.csv')\n",
    "R = pd.read_csv('yield_constants.csv')"
   ]
  },
  {
   "cell_type": "code",
   "execution_count": 29,
   "metadata": {},
   "outputs": [],
   "source": [
    "T.index += 1\n",
    "R.index += 1"
   ]
  },
  {
   "cell_type": "markdown",
   "metadata": {},
   "source": [
    "### Defining Weekly Demand Constants"
   ]
  },
  {
   "cell_type": "code",
   "execution_count": 30,
   "metadata": {},
   "outputs": [],
   "source": [
    "D = pd.read_csv('weekly_demands.csv')"
   ]
  },
  {
   "cell_type": "code",
   "execution_count": 31,
   "metadata": {},
   "outputs": [],
   "source": [
    "D.index += 1"
   ]
  },
  {
   "cell_type": "markdown",
   "metadata": {},
   "source": [
    "# Defining Problem"
   ]
  },
  {
   "cell_type": "code",
   "execution_count": 32,
   "metadata": {},
   "outputs": [],
   "source": [
    "model = gp.Model('base_problem_max')"
   ]
  },
  {
   "cell_type": "markdown",
   "metadata": {},
   "source": [
    "## Variables"
   ]
  },
  {
   "cell_type": "markdown",
   "metadata": {},
   "source": [
    "### Adding Binary Setup Variables"
   ]
  },
  {
   "cell_type": "code",
   "execution_count": 33,
   "metadata": {},
   "outputs": [],
   "source": [
    "S = []\n",
    "for i in range(5):\n",
    "    S_i = []\n",
    "    for j in range(5):\n",
    "        S_i.append(model.addVar(vtype=GRB.BINARY, name=f\"S_{i}_{j}\", lb=0))\n",
    "    S.append(S_i)"
   ]
  },
  {
   "cell_type": "markdown",
   "metadata": {},
   "source": [
    "### Adding Binary Overtime Setup Variables"
   ]
  },
  {
   "cell_type": "code",
   "execution_count": 34,
   "metadata": {},
   "outputs": [],
   "source": [
    "Sp = []\n",
    "for i in range(5):\n",
    "    Sp_i = []\n",
    "    for j in range(5):\n",
    "        Sp_i.append(model.addVar(vtype=GRB.BINARY, name=f\"Sp_{i}_{j}\", lb=0))\n",
    "    Sp.append(Sp_i)"
   ]
  },
  {
   "cell_type": "markdown",
   "metadata": {},
   "source": [
    "### Adding Production Variables"
   ]
  },
  {
   "cell_type": "code",
   "execution_count": 35,
   "metadata": {},
   "outputs": [],
   "source": [
    "P = []\n",
    "for i in range(5):\n",
    "    P_i = []\n",
    "    for j in range(5):\n",
    "        P_i.append(model.addVar(vtype=GRB.CONTINUOUS, name=f\"P_{i}_{j}\", lb=0))\n",
    "    P.append(P_i)"
   ]
  },
  {
   "cell_type": "markdown",
   "metadata": {},
   "source": [
    "### Adding Overtime Production Variables"
   ]
  },
  {
   "cell_type": "code",
   "execution_count": 36,
   "metadata": {},
   "outputs": [],
   "source": [
    "Pp = []\n",
    "for i in range(5):\n",
    "    Pp_i = []\n",
    "    for j in range(5):\n",
    "        Pp_i.append(model.addVar(vtype=GRB.CONTINUOUS, name=f\"Pp_{i}_{j}\", lb=0))\n",
    "    Pp.append(Pp_i)"
   ]
  },
  {
   "cell_type": "code",
   "execution_count": 37,
   "metadata": {},
   "outputs": [],
   "source": [
    "t = model.addVar(vtype=GRB.CONTINUOUS, name=\"t\", lb=0)"
   ]
  },
  {
   "cell_type": "markdown",
   "metadata": {},
   "source": [
    "## Constraints"
   ]
  },
  {
   "cell_type": "markdown",
   "metadata": {},
   "source": [
    "### Demand Constraints"
   ]
  },
  {
   "cell_type": "code",
   "execution_count": 38,
   "metadata": {},
   "outputs": [
    {
     "name": "stderr",
     "output_type": "stream",
     "text": [
      "/var/folders/w_/z02fg3l56_jfc9tys40hqtdm0000gn/T/ipykernel_27642/2297407209.py:3: FutureWarning: Series.__getitem__ treating keys as positions is deprecated. In a future version, integer keys will always be treated as labels (consistent with DataFrame behavior). To access a value by position, use `ser.iloc[pos]`\n",
      "  model.addConstr(constr_expr >= D.iloc[0][i], name=f'Demand_Prod_{i+1}')\n"
     ]
    }
   ],
   "source": [
    "for i in range(5):\n",
    "    constr_expr = gp.quicksum(P[j][i]*R.iloc[j,i] + Pp[j][i]*R.iloc[j,i] for j in range(5))\n",
    "    model.addConstr(constr_expr >= D.iloc[0][i], name=f'Demand_Prod_{i+1}')"
   ]
  },
  {
   "cell_type": "markdown",
   "metadata": {},
   "source": [
    "### Normal Production Time Constraints"
   ]
  },
  {
   "cell_type": "code",
   "execution_count": 39,
   "metadata": {},
   "outputs": [],
   "source": [
    "for i in range(5):\n",
    "    constr_expr = gp.quicksum(S[i][j]*T.iloc[i,j] + P[i][j] for j in range(5))\n",
    "    model.addConstr(constr_expr <= 120, name=f'Prod_Hrs_Mach_{i+1}')"
   ]
  },
  {
   "cell_type": "markdown",
   "metadata": {},
   "source": [
    "### Overtime Production Time Constraints"
   ]
  },
  {
   "cell_type": "code",
   "execution_count": 40,
   "metadata": {},
   "outputs": [],
   "source": [
    "for i in range(5):\n",
    "    constr_expr = gp.quicksum(Sp[i][j]*T.iloc[i,j] + Pp[i][j] for j in range(5))\n",
    "    model.addConstr(constr_expr <= 48, name=f'OT_Prod_Hrs_Mach_{i+1}')"
   ]
  },
  {
   "cell_type": "markdown",
   "metadata": {},
   "source": [
    "### Production Setup Linkage Constants\n",
    "- Regular Time and Overtime are both included here"
   ]
  },
  {
   "cell_type": "code",
   "execution_count": 41,
   "metadata": {},
   "outputs": [],
   "source": [
    "for i in range(5):\n",
    "    for j in range(5):\n",
    "        model.addConstr(P[i][j]*R.iloc[i,j] <= 10000*S[i][j], name=f'SetupProdLinkage_Mach_{i+1}_Prod_{j+1}')\n",
    "        model.addConstr(Pp[i][j]*R.iloc[i,j] <= 10000*(S[i][j]+Sp[i][j]), name=f'OTSetupProdLinkage_Mach_{i+1}_Prod_{j+1}')"
   ]
  },
  {
   "cell_type": "markdown",
   "metadata": {},
   "source": [
    "### Maximisation Constraints\n",
    "- Since we're trying to convert the max(overtime[i]) function - which is not a linear function - to a linear function for the purpose of solving it as an LP, we add additional constraints."
   ]
  },
  {
   "cell_type": "code",
   "execution_count": 42,
   "metadata": {},
   "outputs": [],
   "source": [
    "for i in range(5):\n",
    "    model.addConstr(gp.quicksum(Sp[i][j]*T.iloc[i,j] + Pp[i][j] for j in range(5)) <= t, name=f'MaxConstr_{i}')"
   ]
  },
  {
   "cell_type": "markdown",
   "metadata": {},
   "source": [
    "## Objective Function"
   ]
  },
  {
   "cell_type": "code",
   "execution_count": 43,
   "metadata": {},
   "outputs": [],
   "source": [
    "# obj_parts = []\n",
    "# for i in range(5):\n",
    "#     obj_parts.append(gp.quicksum(Sp[i][j]*T.iloc[i,j] + Pp[i][j] for j in range(5)))"
   ]
  },
  {
   "cell_type": "code",
   "execution_count": 44,
   "metadata": {},
   "outputs": [],
   "source": [
    "model.setObjective(t,GRB.MINIMIZE)"
   ]
  },
  {
   "cell_type": "code",
   "execution_count": 45,
   "metadata": {},
   "outputs": [],
   "source": [
    "model.update()"
   ]
  },
  {
   "cell_type": "code",
   "execution_count": 46,
   "metadata": {},
   "outputs": [
    {
     "data": {
      "text/plain": [
       "<gurobi.LinExpr: t>"
      ]
     },
     "execution_count": 46,
     "metadata": {},
     "output_type": "execute_result"
    }
   ],
   "source": [
    "model.getObjective()"
   ]
  },
  {
   "cell_type": "code",
   "execution_count": 47,
   "metadata": {},
   "outputs": [
    {
     "name": "stdout",
     "output_type": "stream",
     "text": [
      "Gurobi Optimizer version 12.0.0 build v12.0.0rc1 (mac64[arm] - Darwin 24.0.0 24A348)\n",
      "\n",
      "CPU model: Apple M3 Pro\n",
      "Thread count: 11 physical cores, 11 logical processors, using up to 11 threads\n",
      "\n",
      "Optimize a model with 70 rows, 101 columns and 225 nonzeros\n",
      "Model fingerprint: 0x26901b06\n",
      "Variable types: 51 continuous, 50 integer (50 binary)\n",
      "Coefficient statistics:\n",
      "  Matrix range     [1e+00, 1e+04]\n",
      "  Objective range  [1e+00, 1e+00]\n",
      "  Bounds range     [1e+00, 1e+00]\n",
      "  RHS range        [5e+01, 4e+03]\n",
      "Found heuristic solution: objective 48.0000000\n",
      "Presolve removed 39 rows and 69 columns\n",
      "Presolve time: 0.00s\n",
      "Presolved: 31 rows, 32 columns, 104 nonzeros\n",
      "Variable types: 17 continuous, 15 integer (15 binary)\n",
      "\n",
      "Root relaxation: objective 2.347983e+01, 42 iterations, 0.00 seconds (0.00 work units)\n",
      "\n",
      "    Nodes    |    Current Node    |     Objective Bounds      |     Work\n",
      " Expl Unexpl |  Obj  Depth IntInf | Incumbent    BestBd   Gap | It/Node Time\n",
      "\n",
      "     0     0   23.47983    0    6   48.00000   23.47983  51.1%     -    0s\n",
      "H    0     0                      27.1954421   23.47983  13.7%     -    0s\n",
      "     0     0   27.01941    0    1   27.19544   27.01941  0.65%     -    0s\n",
      "\n",
      "Cutting planes:\n",
      "  Gomory: 2\n",
      "  Cover: 2\n",
      "  Implied bound: 2\n",
      "  MIR: 1\n",
      "  Flow cover: 3\n",
      "\n",
      "Explored 1 nodes (59 simplex iterations) in 0.01 seconds (0.00 work units)\n",
      "Thread count was 11 (of 11 available processors)\n",
      "\n",
      "Solution count 2: 27.1954 48 \n",
      "\n",
      "Optimal solution found (tolerance 1.00e-04)\n",
      "Best objective 2.719544209835e+01, best bound 2.719544209835e+01, gap 0.0000%\n"
     ]
    }
   ],
   "source": [
    "model.optimize()"
   ]
  },
  {
   "cell_type": "code",
   "execution_count": 48,
   "metadata": {},
   "outputs": [
    {
     "name": "stdout",
     "output_type": "stream",
     "text": [
      "Machine 1: 8 0 0 8 0 \n",
      "Machine 2: 10 8 0 0 0 \n",
      "Machine 3: 0 10 0 0 0 \n",
      "Machine 4: 0 8 12 0 0 \n",
      "Machine 5: 0 0 0 8 20 \n"
     ]
    }
   ],
   "source": [
    "for i in range(5):\n",
    "    print(f'Machine {i+1}: ', end='')\n",
    "    for j in range(5):\n",
    "        print(int(abs(S[i][j].X*T.iloc[i,j])), end=\" \")\n",
    "    print(\"\")"
   ]
  },
  {
   "cell_type": "code",
   "execution_count": 49,
   "metadata": {},
   "outputs": [
    {
     "name": "stdout",
     "output_type": "stream",
     "text": [
      "Machine 1: 0 0 0 0 0 \n",
      "Machine 2: 0 0 0 0 0 \n",
      "Machine 3: 0 0 0 0 0 \n",
      "Machine 4: 0 0 0 0 0 \n",
      "Machine 5: 0 0 0 0 0 \n"
     ]
    }
   ],
   "source": [
    "for i in range(5):\n",
    "    print(f'Machine {i+1}: ', end='')\n",
    "    for j in range(5):\n",
    "        print(int(abs(Sp[i][j].X*T.iloc[i,j])), end=\" \")\n",
    "    print(\"\")"
   ]
  },
  {
   "cell_type": "code",
   "execution_count": 50,
   "metadata": {},
   "outputs": [
    {
     "name": "stdout",
     "output_type": "stream",
     "text": [
      "Machine 1: 54.493448299273545 0.0 0.0 49.506551700726455 0.0 \n",
      "Machine 2: 77.19299794057075 24.80700205942925 0.0 0.0 0.0 \n",
      "Machine 3: 0.0 110.0 0.0 0.0 0.0 \n",
      "Machine 4: 0.0 0.0 100.0 0.0 0.0 \n",
      "Machine 5: 0.0 0.0 0.0 25.86210876502139 66.13789123497861 \n"
     ]
    }
   ],
   "source": [
    "for i in range(5):\n",
    "    print(f'Machine {i+1}: ', end='')\n",
    "    for j in range(5):\n",
    "        print((abs(P[i][j].X)), end=\" \")\n",
    "    print(\"\")"
   ]
  },
  {
   "cell_type": "code",
   "execution_count": 51,
   "metadata": {},
   "outputs": [
    {
     "name": "stdout",
     "output_type": "stream",
     "text": [
      "Machine 1: 0.0 0.0 0.0 27.19544209835472 0.0 \n",
      "Machine 2: 27.19544209835472 0.0 0.0 0.0 0.0 \n",
      "Machine 3: 0.0 27.19544209835472 0.0 0.0 0.0 \n",
      "Machine 4: 0.0 20.52877543168805 6.666666666666667 0.0 0.0 \n",
      "Machine 5: 0.0 0.0 0.0 0.0 27.19544209835472 \n"
     ]
    }
   ],
   "source": [
    "for i in range(5):\n",
    "    print(f'Machine {i+1}: ', end='')\n",
    "    for j in range(5):\n",
    "        print((abs(Pp[i][j].X)), end=\" \")\n",
    "    print(\"\")"
   ]
  },
  {
   "cell_type": "code",
   "execution_count": 52,
   "metadata": {},
   "outputs": [
    {
     "name": "stdout",
     "output_type": "stream",
     "text": [
      "Final Objective Value:  27.19544209835472\n"
     ]
    }
   ],
   "source": [
    "print('Final Objective Value: ', model.ObjVal)"
   ]
  },
  {
   "cell_type": "code",
   "execution_count": null,
   "metadata": {},
   "outputs": [],
   "source": []
  }
 ],
 "metadata": {
  "kernelspec": {
   "display_name": "env",
   "language": "python",
   "name": "python3"
  },
  "language_info": {
   "codemirror_mode": {
    "name": "ipython",
    "version": 3
   },
   "file_extension": ".py",
   "mimetype": "text/x-python",
   "name": "python",
   "nbconvert_exporter": "python",
   "pygments_lexer": "ipython3",
   "version": "3.12.6"
  }
 },
 "nbformat": 4,
 "nbformat_minor": 2
}
