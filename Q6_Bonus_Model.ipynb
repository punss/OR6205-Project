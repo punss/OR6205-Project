{
 "cells": [
  {
   "cell_type": "code",
   "execution_count": 216,
   "metadata": {},
   "outputs": [],
   "source": [
    "import gurobipy as gp\n",
    "from gurobipy import GRB\n",
    "import pandas as pd\n",
    "import numpy as np"
   ]
  },
  {
   "cell_type": "markdown",
   "metadata": {},
   "source": [
    "### Defining Setup Time and Hourly Yield Constants"
   ]
  },
  {
   "cell_type": "code",
   "execution_count": 217,
   "metadata": {},
   "outputs": [],
   "source": [
    "T = pd.read_csv('setup_constants.csv')\n",
    "R = pd.read_csv('yield_constants.csv')"
   ]
  },
  {
   "cell_type": "code",
   "execution_count": 218,
   "metadata": {},
   "outputs": [],
   "source": [
    "T.index += 1\n",
    "R.index += 1"
   ]
  },
  {
   "cell_type": "markdown",
   "metadata": {},
   "source": [
    "### Defining Weekly Demand Constants"
   ]
  },
  {
   "cell_type": "code",
   "execution_count": 219,
   "metadata": {},
   "outputs": [],
   "source": [
    "D = pd.read_csv('weekly_demands.csv')"
   ]
  },
  {
   "cell_type": "code",
   "execution_count": 220,
   "metadata": {},
   "outputs": [],
   "source": [
    "D.index += 1"
   ]
  },
  {
   "cell_type": "markdown",
   "metadata": {},
   "source": [
    "# Defining Problem"
   ]
  },
  {
   "cell_type": "code",
   "execution_count": 221,
   "metadata": {},
   "outputs": [],
   "source": [
    "model = gp.Model('base_problem')"
   ]
  },
  {
   "cell_type": "markdown",
   "metadata": {},
   "source": [
    "## Variables"
   ]
  },
  {
   "cell_type": "markdown",
   "metadata": {},
   "source": [
    "### Adding Binary Setup Variables"
   ]
  },
  {
   "cell_type": "code",
   "execution_count": null,
   "metadata": {},
   "outputs": [],
   "source": [
    "Sw = []\n",
    "for w in range(2):\n",
    "    S = []\n",
    "    for i in range(5):\n",
    "        S_i = []\n",
    "        for j in range(5):\n",
    "            S_i.append(model.addVar(vtype=GRB.BINARY, name=f\"S_{i}_{j}_{w}\", lb=0))\n",
    "        S.append(S_i)\n",
    "    Sw.append(S)"
   ]
  },
  {
   "cell_type": "markdown",
   "metadata": {},
   "source": [
    "### Adding Binary Overtime Setup Variables"
   ]
  },
  {
   "cell_type": "code",
   "execution_count": 224,
   "metadata": {},
   "outputs": [],
   "source": [
    "Spw = []\n",
    "for w in range(2):\n",
    "    Sp = []\n",
    "    for i in range(5):\n",
    "        Sp_i = []\n",
    "        for j in range(5):\n",
    "            Sp_i.append(model.addVar(vtype=GRB.BINARY, name=f\"Sp_{i}_{j}_{w}\", lb=0))\n",
    "        Sp.append(Sp_i)\n",
    "    Spw.append(Sp)"
   ]
  },
  {
   "cell_type": "markdown",
   "metadata": {},
   "source": [
    "### Adding Production Variables"
   ]
  },
  {
   "cell_type": "code",
   "execution_count": 225,
   "metadata": {},
   "outputs": [],
   "source": [
    "Pw = []\n",
    "for w in range(2):\n",
    "    P = []\n",
    "    for i in range(5):\n",
    "        P_i = []\n",
    "        for j in range(5):\n",
    "            P_i.append(model.addVar(vtype=GRB.CONTINUOUS, name=f\"P_{i}_{j}_{w}\", lb=0))\n",
    "        P.append(P_i)\n",
    "    Pw.append(P)"
   ]
  },
  {
   "cell_type": "markdown",
   "metadata": {},
   "source": [
    "### Adding Overtime Production Variables"
   ]
  },
  {
   "cell_type": "code",
   "execution_count": 226,
   "metadata": {},
   "outputs": [],
   "source": [
    "Ppw = []\n",
    "for w in range(2):\n",
    "    Pp = []\n",
    "    for i in range(5):\n",
    "        Pp_i = []\n",
    "        for j in range(5):\n",
    "            Pp_i.append(model.addVar(vtype=GRB.CONTINUOUS, name=f\"Pp_{i}_{j}_{w}\", lb=0))\n",
    "        Pp.append(Pp_i)\n",
    "    Ppw.append(Pp)"
   ]
  },
  {
   "cell_type": "markdown",
   "metadata": {},
   "source": [
    "### Adding Use Variables"
   ]
  },
  {
   "cell_type": "code",
   "execution_count": 227,
   "metadata": {},
   "outputs": [],
   "source": [
    "Uw = []\n",
    "for w in range(2):\n",
    "    U = []\n",
    "    for i in range(5):\n",
    "        U_i = []\n",
    "        for j in range(5):\n",
    "            U_i.append(model.addVar(vtype=GRB.BINARY, name=f\"U_{i}_{j}_{w}\", lb=0))\n",
    "        U.append(U_i)\n",
    "    Uw.append(U)"
   ]
  },
  {
   "cell_type": "markdown",
   "metadata": {},
   "source": [
    "### Adding Overtime Use Variables"
   ]
  },
  {
   "cell_type": "code",
   "execution_count": 228,
   "metadata": {},
   "outputs": [],
   "source": [
    "Upw = []\n",
    "for w in range(2):\n",
    "    Up = []\n",
    "    for i in range(5):\n",
    "        Up_i = []\n",
    "        for j in range(5):\n",
    "            Up_i.append(model.addVar(vtype=GRB.BINARY, name=f\"Up_{i}_{j}_{w}\", lb=0))\n",
    "        Up.append(U_i)\n",
    "    Upw.append(Up)"
   ]
  },
  {
   "cell_type": "markdown",
   "metadata": {},
   "source": [
    "## Constraints"
   ]
  },
  {
   "cell_type": "markdown",
   "metadata": {},
   "source": [
    "### Demand Constraints"
   ]
  },
  {
   "cell_type": "code",
   "execution_count": 229,
   "metadata": {},
   "outputs": [
    {
     "name": "stderr",
     "output_type": "stream",
     "text": [
      "/var/folders/w_/z02fg3l56_jfc9tys40hqtdm0000gn/T/ipykernel_22872/1960682158.py:4: FutureWarning: Series.__getitem__ treating keys as positions is deprecated. In a future version, integer keys will always be treated as labels (consistent with DataFrame behavior). To access a value by position, use `ser.iloc[pos]`\n",
      "  model.addConstr(constr_expr >= D.iloc[w][i], name=f'Demand_Prod_{i+1}_{w}')\n"
     ]
    }
   ],
   "source": [
    "for w in range(2):\n",
    "    for i in range(5):\n",
    "        constr_expr = gp.quicksum(Pw[w][j][i]*R.iloc[j,i] + Ppw[w][j][i]*R.iloc[j,i] for j in range(5))\n",
    "        model.addConstr(constr_expr >= D.iloc[w][i], name=f'Demand_Prod_{i+1}_{w}')"
   ]
  },
  {
   "cell_type": "markdown",
   "metadata": {},
   "source": [
    "### Normal Production Time Constraints"
   ]
  },
  {
   "cell_type": "code",
   "execution_count": 230,
   "metadata": {},
   "outputs": [],
   "source": [
    "for w in range(2):\n",
    "    for i in range(5):\n",
    "        constr_expr = gp.quicksum(Sw[w][i][j]*T.iloc[i,j] + Pw[w][i][j] for j in range(5))\n",
    "        model.addConstr(constr_expr <= 120, name=f'Prod_Hrs_Mach_{i+1}_{w}')"
   ]
  },
  {
   "cell_type": "markdown",
   "metadata": {},
   "source": [
    "### Overtime Production Time Constraints"
   ]
  },
  {
   "cell_type": "code",
   "execution_count": 231,
   "metadata": {},
   "outputs": [],
   "source": [
    "for w in range(2):\n",
    "    for i in range(5):\n",
    "        constr_expr = gp.quicksum(Spw[w][i][j]*T.iloc[i,j] + Ppw[w][i][j] for j in range(5))\n",
    "        model.addConstr(constr_expr <= 48, name=f'OT_Prod_Hrs_Mach_{i+1}_{w}')"
   ]
  },
  {
   "cell_type": "markdown",
   "metadata": {},
   "source": [
    "### Production Use Linkage Constants\n",
    "- Regular Time and Overtime are both included here"
   ]
  },
  {
   "cell_type": "code",
   "execution_count": 232,
   "metadata": {},
   "outputs": [],
   "source": [
    "for w in range(2):\n",
    "    for i in range(5):\n",
    "        for j in range(5):\n",
    "            model.addConstr(Pw[w][i][j]*R.iloc[i,j] <= 10000*Uw[w][i][j], name=f'UseProdLinkage_Mach_{i+1}_Prod_{j+1}_Week_{w}')\n",
    "            model.addConstr(Ppw[w][i][j]*R.iloc[i,j] <= 10000*(Uw[w][i][j]+Upw[w][i][j]), name=f'OTUseProdLinkage_Mach_{i+1}_Prod_{j+1}_Week_{w}')"
   ]
  },
  {
   "cell_type": "markdown",
   "metadata": {},
   "source": [
    "### Setup Use Linkage Constants\n",
    "- Regular Time and Overtime are both included here"
   ]
  },
  {
   "cell_type": "code",
   "execution_count": 233,
   "metadata": {},
   "outputs": [],
   "source": [
    "for i in range(5):\n",
    "    for j in range(5):\n",
    "        model.addConstr(Uw[0][i][j] <= 10*Sw[0][i][j], name=f'SetupUseLinkage_Mach_{i+1}_Prod_{j+1}_Week_0')\n",
    "        model.addConstr(Upw[0][i][j] <= 10*(Sw[0][i][j]+Spw[0][i][j]), name=f'SetupUseLinkage_Mach_{i+1}_Prod_{j+1}_Week_0')\n",
    "\n",
    "for i in range(5):\n",
    "    for j in range(5):\n",
    "        model.addConstr(Uw[1][i][j] <= 10*(Sw[1][i][j]+Sw[0][i][j]+Spw[0][i][j]), name=f'SetupUseLinkage_Mach_{i+1}_Prod_{j+1}_Week_1')\n",
    "        model.addConstr(Upw[1][i][j] <= 10*(Sw[0][i][j]+Spw[0][i][j]+Sw[1][i][j]+Spw[1][i][j]), name=f'SetupUseLinkage_Mach_{i+1}_Prod_{j+1}_Week_1')"
   ]
  },
  {
   "cell_type": "markdown",
   "metadata": {},
   "source": [
    "## Objective Function"
   ]
  },
  {
   "cell_type": "code",
   "execution_count": 234,
   "metadata": {},
   "outputs": [],
   "source": [
    "obj_parts = []\n",
    "for w in range(2):\n",
    "    for i in range(5):\n",
    "        obj_parts.append(gp.quicksum(Spw[w][i][j]*T.iloc[i,j] + Ppw[w][i][j] for j in range(5)))"
   ]
  },
  {
   "cell_type": "code",
   "execution_count": 235,
   "metadata": {},
   "outputs": [],
   "source": [
    "model.setObjective(gp.quicksum(obj_parts),GRB.MINIMIZE)"
   ]
  },
  {
   "cell_type": "code",
   "execution_count": 236,
   "metadata": {},
   "outputs": [],
   "source": [
    "model.update()"
   ]
  },
  {
   "cell_type": "code",
   "execution_count": 237,
   "metadata": {},
   "outputs": [
    {
     "data": {
      "text/plain": [
       "<gurobi.LinExpr: 8.0 Sp_0_0_0 + 8.0 Sp_0_3_0 + 10.0 Sp_1_0_0 + 8.0 Sp_1_1_0 + 10.0 Sp_2_1_0 + 24.0 Sp_2_4_0 + 8.0 Sp_3_1_0 + 12.0 Sp_3_2_0 + 8.0 Sp_4_3_0 + 20.0 Sp_4_4_0 + 8.0 Sp_0_0_1 + 8.0 Sp_0_3_1 + 10.0 Sp_1_0_1 + 8.0 Sp_1_1_1 + 10.0 Sp_2_1_1 + 24.0 Sp_2_4_1 + 8.0 Sp_3_1_1 + 12.0 Sp_3_2_1 + 8.0 Sp_4_3_1 + 20.0 Sp_4_4_1 + Pp_0_0_0 + Pp_0_1_0 + Pp_0_2_0 + Pp_0_3_0 + Pp_0_4_0 + Pp_1_0_0 + Pp_1_1_0 + Pp_1_2_0 + Pp_1_3_0 + Pp_1_4_0 + Pp_2_0_0 + Pp_2_1_0 + Pp_2_2_0 + Pp_2_3_0 + Pp_2_4_0 + Pp_3_0_0 + Pp_3_1_0 + Pp_3_2_0 + Pp_3_3_0 + Pp_3_4_0 + Pp_4_0_0 + Pp_4_1_0 + Pp_4_2_0 + Pp_4_3_0 + Pp_4_4_0 + Pp_0_0_1 + Pp_0_1_1 + Pp_0_2_1 + Pp_0_3_1 + Pp_0_4_1 + Pp_1_0_1 + Pp_1_1_1 + Pp_1_2_1 + Pp_1_3_1 + Pp_1_4_1 + Pp_2_0_1 + Pp_2_1_1 + Pp_2_2_1 + Pp_2_3_1 + Pp_2_4_1 + Pp_3_0_1 + Pp_3_1_1 + Pp_3_2_1 + Pp_3_3_1 + Pp_3_4_1 + Pp_4_0_1 + Pp_4_1_1 + Pp_4_2_1 + Pp_4_3_1 + Pp_4_4_1>"
      ]
     },
     "execution_count": 237,
     "metadata": {},
     "output_type": "execute_result"
    }
   ],
   "source": [
    "model.getObjective()"
   ]
  },
  {
   "cell_type": "code",
   "execution_count": 238,
   "metadata": {},
   "outputs": [
    {
     "name": "stdout",
     "output_type": "stream",
     "text": [
      "Gurobi Optimizer version 12.0.0 build v12.0.0rc1 (mac64[arm] - Darwin 24.0.0 24A348)\n",
      "\n",
      "CPU model: Apple M3 Pro\n",
      "Thread count: 11 physical cores, 11 logical processors, using up to 11 threads\n",
      "\n",
      "Optimize a model with 230 rows, 300 columns and 715 nonzeros\n",
      "Model fingerprint: 0xcfe04c60\n",
      "Variable types: 100 continuous, 200 integer (200 binary)\n",
      "Coefficient statistics:\n",
      "  Matrix range     [1e+00, 2e+04]\n",
      "  Objective range  [1e+00, 2e+01]\n",
      "  Bounds range     [1e+00, 1e+00]\n",
      "  RHS range        [5e+01, 4e+03]\n",
      "Found heuristic solution: objective 328.1214976\n",
      "Presolve removed 165 rows and 238 columns\n",
      "Presolve time: 0.00s\n",
      "Presolved: 65 rows, 62 columns, 198 nonzeros\n",
      "Variable types: 34 continuous, 28 integer (28 binary)\n",
      "\n",
      "Root relaxation: objective 1.522458e+02, 56 iterations, 0.00 seconds (0.00 work units)\n",
      "\n",
      "    Nodes    |    Current Node    |     Objective Bounds      |     Work\n",
      " Expl Unexpl |  Obj  Depth IntInf | Incumbent    BestBd   Gap | It/Node Time\n",
      "\n",
      "     0     0  152.24584    0    9  328.12150  152.24584  53.6%     -    0s\n",
      "H    0     0                     167.9446704  152.24584  9.35%     -    0s\n",
      "H    0     0                     166.6589561  161.78193  2.93%     -    0s\n",
      "     0     0  166.65896    0    4  166.65896  166.65896  0.00%     -    0s\n",
      "\n",
      "Cutting planes:\n",
      "  Gomory: 1\n",
      "  Cover: 2\n",
      "  MIR: 4\n",
      "  Flow cover: 5\n",
      "  RLT: 3\n",
      "  Relax-and-lift: 1\n",
      "\n",
      "Explored 1 nodes (72 simplex iterations) in 0.01 seconds (0.00 work units)\n",
      "Thread count was 11 (of 11 available processors)\n",
      "\n",
      "Solution count 3: 166.659 167.945 328.121 \n",
      "\n",
      "Optimal solution found (tolerance 1.00e-04)\n",
      "Best objective 1.666589561232e+02, best bound 1.666589561232e+02, gap 0.0000%\n"
     ]
    }
   ],
   "source": [
    "model.optimize()"
   ]
  },
  {
   "cell_type": "code",
   "execution_count": 239,
   "metadata": {},
   "outputs": [
    {
     "data": {
      "text/plain": [
       "True"
      ]
     },
     "execution_count": 239,
     "metadata": {},
     "output_type": "execute_result"
    }
   ],
   "source": [
    "model.Status == GRB.OPTIMAL"
   ]
  },
  {
   "cell_type": "code",
   "execution_count": 240,
   "metadata": {},
   "outputs": [
    {
     "name": "stdout",
     "output_type": "stream",
     "text": [
      "Machine 1: 8 0 0 8 0 \n",
      "Machine 2: 10 0 0 0 0 \n",
      "Machine 3: 0 10 0 0 24 \n",
      "Machine 4: 0 8 12 0 0 \n",
      "Machine 5: 0 0 0 8 20 \n"
     ]
    }
   ],
   "source": [
    "for i in range(5):\n",
    "    print(f'Machine {i+1}: ', end='')\n",
    "    for j in range(5):\n",
    "        print(int(abs(Sw[0][i][j].X*T.iloc[i,j])), end=\" \")\n",
    "    print(\"\")"
   ]
  },
  {
   "cell_type": "code",
   "execution_count": 241,
   "metadata": {},
   "outputs": [
    {
     "name": "stdout",
     "output_type": "stream",
     "text": [
      "Machine 1: 0 0 0 0 0 \n",
      "Machine 2: 0 8 0 0 0 \n",
      "Machine 3: 0 0 0 0 0 \n",
      "Machine 4: 0 0 0 0 0 \n",
      "Machine 5: 0 0 0 0 0 \n"
     ]
    }
   ],
   "source": [
    "for i in range(5):\n",
    "    print(f'Machine {i+1}: ', end='')\n",
    "    for j in range(5):\n",
    "        print(int(abs(Sw[1][i][j].X*T.iloc[i,j])), end=\" \")\n",
    "    print(\"\")"
   ]
  },
  {
   "cell_type": "code",
   "execution_count": 242,
   "metadata": {},
   "outputs": [
    {
     "name": "stdout",
     "output_type": "stream",
     "text": [
      "Machine 1: 0 0 0 0 0 \n",
      "Machine 2: 0 0 0 0 0 \n",
      "Machine 3: 0 0 0 0 0 \n",
      "Machine 4: 0 0 0 0 0 \n",
      "Machine 5: 0 0 0 0 0 \n"
     ]
    }
   ],
   "source": [
    "for i in range(5):\n",
    "    print(f'Machine {i+1}: ', end='')\n",
    "    for j in range(5):\n",
    "        print(int(abs(Spw[0][i][j].X*T.iloc[i,j])), end=\" \")\n",
    "    print(\"\")"
   ]
  },
  {
   "cell_type": "code",
   "execution_count": 243,
   "metadata": {},
   "outputs": [
    {
     "name": "stdout",
     "output_type": "stream",
     "text": [
      "Machine 1: 0 0 0 0 0 \n",
      "Machine 2: 0 0 0 0 0 \n",
      "Machine 3: 0 0 0 0 0 \n",
      "Machine 4: 0 0 0 0 0 \n",
      "Machine 5: 0 0 0 0 0 \n"
     ]
    }
   ],
   "source": [
    "for i in range(5):\n",
    "    print(f'Machine {i+1}: ', end='')\n",
    "    for j in range(5):\n",
    "        print(int(abs(Spw[1][i][j].X*T.iloc[i,j])), end=\" \")\n",
    "    print(\"\")"
   ]
  },
  {
   "cell_type": "code",
   "execution_count": 244,
   "metadata": {},
   "outputs": [
    {
     "name": "stdout",
     "output_type": "stream",
     "text": [
      "Machine 1: 49.583333333333336 0.0 0.0 54.416666666666664 0.0 \n",
      "Machine 2: 110.0 0.0 0.0 0.0 0.0 \n",
      "Machine 3: 0.0 86.0 0.0 0.0 0.0 \n",
      "Machine 4: 0.0 0.0 100.0 0.0 0.0 \n",
      "Machine 5: 0.0 0.0 0.0 46.666666666666664 45.333333333333336 \n"
     ]
    }
   ],
   "source": [
    "for i in range(5):\n",
    "    print(f'Machine {i+1}: ', end='')\n",
    "    for j in range(5):\n",
    "        print((abs(Pw[0][i][j].X)), end=\" \")\n",
    "    print(\"\")"
   ]
  },
  {
   "cell_type": "code",
   "execution_count": 245,
   "metadata": {},
   "outputs": [
    {
     "name": "stdout",
     "output_type": "stream",
     "text": [
      "Machine 1: 36.41025641025641 0.0 0.0 83.58974358974359 0.0 \n",
      "Machine 2: 101.24542124542124 10.75457875457876 0.0 0.0 0.0 \n",
      "Machine 3: 0.0 120.0 0.0 0.0 0.0 \n",
      "Machine 4: 0.0 13.333333333333334 106.66666666666667 0.0 0.0 \n",
      "Machine 5: 0.0 0.0 0.0 26.666666666666668 93.33333333333333 \n"
     ]
    }
   ],
   "source": [
    "for i in range(5):\n",
    "    print(f'Machine {i+1}: ', end='')\n",
    "    for j in range(5):\n",
    "        print((abs(Pw[1][i][j].X)), end=\" \")\n",
    "    print(\"\")"
   ]
  },
  {
   "cell_type": "code",
   "execution_count": 246,
   "metadata": {},
   "outputs": [
    {
     "name": "stdout",
     "output_type": "stream",
     "text": [
      "Machine 1: 0.0 0.0 0.0 1.480769230769233 0.0 \n",
      "Machine 2: 0.0 0.0 0.0 0.0 0.0 \n",
      "Machine 3: 0.0 47.5959595959596 0.0 0.0 0.0 \n",
      "Machine 4: 0.0 41.333333333333336 6.666666666666667 0.0 0.0 \n",
      "Machine 5: 0.0 0.0 0.0 0.0 48.0 \n"
     ]
    }
   ],
   "source": [
    "for i in range(5):\n",
    "    print(f'Machine {i+1}: ', end='')\n",
    "    for j in range(5):\n",
    "        print((abs(Ppw[0][i][j].X)), end=\" \")\n",
    "    print(\"\")"
   ]
  },
  {
   "cell_type": "code",
   "execution_count": 247,
   "metadata": {},
   "outputs": [
    {
     "name": "stdout",
     "output_type": "stream",
     "text": [
      "Machine 1: 0.0 0.0 0.0 0.0 0.0 \n",
      "Machine 2: 0.0 0.0 0.0 0.0 0.0 \n",
      "Machine 3: 0.0 0.0 0.0 0.0 0.0 \n",
      "Machine 4: 0.0 21.58222729651301 0.0 0.0 0.0 \n",
      "Machine 5: 0.0 0.0 0.0 0.0 0.0 \n"
     ]
    }
   ],
   "source": [
    "for i in range(5):\n",
    "    print(f'Machine {i+1}: ', end='')\n",
    "    for j in range(5):\n",
    "        print((abs(Ppw[1][i][j].X)), end=\" \")\n",
    "    print(\"\")"
   ]
  },
  {
   "cell_type": "code",
   "execution_count": 248,
   "metadata": {},
   "outputs": [
    {
     "name": "stdout",
     "output_type": "stream",
     "text": [
      "**** Week 1 ****\n",
      "Part 1: 3500 \n",
      "Part 2: 3000 \n",
      "Part 3: 4000 \n",
      "Part 4: 4000 \n",
      "Part 5: 2800 \n"
     ]
    }
   ],
   "source": [
    "print(\"**** Week 1 ****\")\n",
    "for i in range(5):\n",
    "    print(f\"Part {i+1}:\", round(sum([abs(Pw[0][j][i].X+Ppw[0][j][i].X)*R.iloc[j,i] for j in range(5)])), end=\" \")\n",
    "    print(\"\")"
   ]
  },
  {
   "cell_type": "code",
   "execution_count": 249,
   "metadata": {},
   "outputs": [
    {
     "name": "stdout",
     "output_type": "stream",
     "text": [
      "**** Week 2 ****\n",
      "Part 1: 3000 \n",
      "Part 2: 2800 \n",
      "Part 3: 4000 \n",
      "Part 4: 4300 \n",
      "Part 5: 2800 \n"
     ]
    }
   ],
   "source": [
    "print(\"**** Week 2 ****\")\n",
    "for i in range(5):\n",
    "    print(f\"Part {i+1}:\", round(sum([abs(Pw[1][j][i].X+Ppw[1][j][i].X)*R.iloc[j,i] for j in range(5)])), end=\" \")\n",
    "    print(\"\")"
   ]
  },
  {
   "cell_type": "code",
   "execution_count": 250,
   "metadata": {},
   "outputs": [
    {
     "name": "stdout",
     "output_type": "stream",
     "text": [
      "Final Objective Value:  166.65895612324186\n"
     ]
    }
   ],
   "source": [
    "print('Final Objective Value: ', model.ObjVal)"
   ]
  },
  {
   "cell_type": "code",
   "execution_count": null,
   "metadata": {},
   "outputs": [],
   "source": []
  }
 ],
 "metadata": {
  "kernelspec": {
   "display_name": "env",
   "language": "python",
   "name": "python3"
  },
  "language_info": {
   "codemirror_mode": {
    "name": "ipython",
    "version": 3
   },
   "file_extension": ".py",
   "mimetype": "text/x-python",
   "name": "python",
   "nbconvert_exporter": "python",
   "pygments_lexer": "ipython3",
   "version": "3.12.6"
  }
 },
 "nbformat": 4,
 "nbformat_minor": 2
}
